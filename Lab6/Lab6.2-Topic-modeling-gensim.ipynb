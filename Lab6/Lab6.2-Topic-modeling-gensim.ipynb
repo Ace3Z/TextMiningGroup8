{
 "cells": [
  {
   "cell_type": "markdown",
   "metadata": {},
   "source": [
    "# Lab6.2: Topic modeling using gensim"
   ]
  },
  {
   "cell_type": "markdown",
   "metadata": {},
   "source": [
    "In this notebook, we demonstrate how LDA models can be built and applied using the *gensim* package.\n",
    "\n",
    "Credits:\n",
    "\n",
    "This notebook is an adaptation of a blog from Susan Li's:\n",
    "\n",
    "https://towardsdatascience.com/topic-modeling-and-latent-dirichlet-allocation-in-python-9bf156893c24\n",
    "\n"
   ]
  },
  {
   "cell_type": "markdown",
   "metadata": {},
   "source": [
    "The data set we’ll use is a list of over one million news headlines published over a period of 15 years and can be downloaded from:\n",
    "\n",
    "https://www.kaggle.com/therohk/million-headlines/data\n",
    "\n",
    "You can also find this file in the lab6 folder.\n",
    "\n",
    "We read the CSV file using the pandas framework."
   ]
  },
  {
   "cell_type": "code",
   "execution_count": 1,
   "metadata": {},
   "outputs": [],
   "source": [
    "import pandas as pd\n",
    "\n",
    "#### Adapt the path below to point to your local copy of the data set\n",
    "data = pd.read_csv('abcnews-date-text.csv', on_bad_lines=\"warn\");\n",
    "data_text = data[['headline_text']]\n",
    "data_text['index'] = data_text.index\n",
    "documents = data_text"
   ]
  },
  {
   "cell_type": "markdown",
   "metadata": {},
   "source": [
    "Let's have a look at the data:"
   ]
  },
  {
   "cell_type": "code",
   "execution_count": 2,
   "metadata": {},
   "outputs": [
    {
     "name": "stdout",
     "output_type": "stream",
     "text": [
      "1244184\n",
      "                                       headline_text  index\n",
      "0  aba decides against community broadcasting lic...      0\n",
      "1     act fire witnesses must be aware of defamation      1\n",
      "2     a g calls for infrastructure protection summit      2\n",
      "3           air nz staff in aust strike for pay rise      3\n",
      "4      air nz strike to affect australian travellers      4\n"
     ]
    }
   ],
   "source": [
    "print(len(documents))\n",
    "print(documents[:5])"
   ]
  },
  {
   "cell_type": "markdown",
   "metadata": {},
   "source": [
    "We are going to use the *gensim* package to build our LDA models from the data.\n",
    "Before building the model, we are going to preprocess the texts."
   ]
  },
  {
   "cell_type": "markdown",
   "metadata": {},
   "source": [
    "## Data Pre-processing\n",
    "We will perform the following steps:\n",
    "\n",
    "* Tokenization: Split the text into sentences and the sentences into words. Lowercase the words and remove punctuation.\n",
    "* Words that have fewer than 3 characters are removed.\n",
    "* All stopwords are removed.\n",
    "* Words are lemmatized — words in third person are changed to first person and verbs in past and future tenses are changed into present.\n",
    "* Words are stemmed — words are reduced to their root form.\n",
    "\n",
    "In order to apply these processing steps, we first load the gensim and nltk libraries"
   ]
  },
  {
   "cell_type": "code",
   "execution_count": 3,
   "metadata": {},
   "outputs": [
    {
     "name": "stderr",
     "output_type": "stream",
     "text": [
      "[nltk_data] Downloading package wordnet to\n",
      "[nltk_data]     /Users/joanapetkova/nltk_data...\n",
      "[nltk_data]   Package wordnet is already up-to-date!\n"
     ]
    }
   ],
   "source": [
    "import gensim\n",
    "from gensim.utils import simple_preprocess\n",
    "from gensim.parsing.preprocessing import STOPWORDS\n",
    "from nltk.stem import WordNetLemmatizer, SnowballStemmer\n",
    "from nltk.stem.porter import *\n",
    "import numpy as np\n",
    "np.random.seed(2018)\n",
    "import nltk\n",
    "nltk.download('wordnet')\n",
    "\n",
    "lemmatizer = WordNetLemmatizer()"
   ]
  },
  {
   "cell_type": "code",
   "execution_count": 4,
   "metadata": {},
   "outputs": [],
   "source": [
    "def lemmatize_stemming(text):\n",
    "    return lemmatizer.lemmatize(text)\n",
    "def preprocess(text):\n",
    "    result = []\n",
    "    for token in gensim.utils.simple_preprocess(text):\n",
    "        if token not in gensim.parsing.preprocessing.STOPWORDS and len(token) > 3:\n",
    "           # result.append(token)\n",
    "            result.append(lemmatize_stemming(token))\n",
    "    return result"
   ]
  },
  {
   "cell_type": "code",
   "execution_count": 5,
   "metadata": {},
   "outputs": [
    {
     "name": "stdout",
     "output_type": "stream",
     "text": [
      "original document: \n",
      "['ratepayers', 'group', 'wants', 'compulsory', 'local', 'govt', 'voting']\n",
      "\n",
      "\n",
      " tokenized and lemmatized document: \n",
      "['ratepayer', 'group', 'want', 'compulsory', 'local', 'govt', 'voting']\n"
     ]
    }
   ],
   "source": [
    "doc_sample = documents[documents['index'] == 4310].values[0][0]\n",
    "print('original document: ')\n",
    "words = []\n",
    "for word in doc_sample.split(' '):\n",
    "    words.append(word)\n",
    "print(words)\n",
    "print('\\n\\n tokenized and lemmatized document: ')\n",
    "print(preprocess(doc_sample))"
   ]
  },
  {
   "cell_type": "markdown",
   "metadata": {},
   "source": [
    "We now apply the preprocessing to all the headlines and print the first 10 results"
   ]
  },
  {
   "cell_type": "code",
   "execution_count": 6,
   "metadata": {},
   "outputs": [
    {
     "data": {
      "text/plain": [
       "0          [decides, community, broadcasting, licence]\n",
       "1                         [witness, aware, defamation]\n",
       "2           [call, infrastructure, protection, summit]\n",
       "3                          [staff, aust, strike, rise]\n",
       "4              [strike, affect, australian, traveller]\n",
       "5               [ambitious, olsson, win, triple, jump]\n",
       "6          [antic, delighted, record, breaking, barca]\n",
       "7    [aussie, qualifier, stosur, waste, memphis, ma...\n",
       "8             [aust, address, security, council, iraq]\n",
       "9                       [australia, locked, timetable]\n",
       "Name: headline_text, dtype: object"
      ]
     },
     "execution_count": 6,
     "metadata": {},
     "output_type": "execute_result"
    }
   ],
   "source": [
    "processed_docs = documents['headline_text'].map(preprocess)\n",
    "### print the first 10 results\n",
    "processed_docs[:10]"
   ]
  },
  {
   "cell_type": "markdown",
   "metadata": {},
   "source": [
    "## Bag of Words on the Data set\n",
    "Create a dictionary from ‘processed_docs’ containing the number of times a word appears in the training set.\n",
    "We are going to use the *Dictionary* function to derive a dictionary with counts from the headlines."
   ]
  },
  {
   "cell_type": "code",
   "execution_count": 7,
   "metadata": {},
   "outputs": [
    {
     "name": "stdout",
     "output_type": "stream",
     "text": [
      "0 broadcasting\n",
      "1 community\n",
      "2 decides\n",
      "3 licence\n",
      "4 aware\n",
      "5 defamation\n",
      "6 witness\n",
      "7 call\n",
      "8 infrastructure\n",
      "9 protection\n",
      "10 summit\n"
     ]
    }
   ],
   "source": [
    "dictionary = gensim.corpora.Dictionary(processed_docs)\n",
    "count = 0\n",
    "for k, v in dictionary.iteritems():\n",
    "    print(k, v)\n",
    "    count += 1\n",
    "    if count > 10:\n",
    "        break"
   ]
  },
  {
   "cell_type": "markdown",
   "metadata": {},
   "source": [
    "## Gensim filter_extremes\n",
    "Filter out tokens that appear in\n",
    "less than 15 documents (absolute number) or\n",
    "more than 0.5 documents (fraction of total corpus size, not absolute number).\n",
    "after the above two steps, keep only the first 100000 most frequent tokens."
   ]
  },
  {
   "cell_type": "code",
   "execution_count": 8,
   "metadata": {},
   "outputs": [],
   "source": [
    "dictionary.filter_extremes(no_below=15, no_above=0.5, keep_n=100000)"
   ]
  },
  {
   "cell_type": "markdown",
   "metadata": {},
   "source": [
    "## Gensim doc2bow\n",
    "For each document we create a dictionary reporting how many words and how many times those words appear. \n",
    "Gensim provides the *doc2bow* function to create a BoW vector representation for a document.\n",
    "Save this to ‘bow_corpus’, then check our selected document earlier."
   ]
  },
  {
   "cell_type": "code",
   "execution_count": 9,
   "metadata": {},
   "outputs": [
    {
     "data": {
      "text/plain": [
       "[(164, 1), (241, 1), (615, 1), (891, 1), (4175, 1), (4176, 1), (4177, 1)]"
      ]
     },
     "execution_count": 9,
     "metadata": {},
     "output_type": "execute_result"
    }
   ],
   "source": [
    "bow_corpus = [dictionary.doc2bow(doc) for doc in processed_docs]\n",
    "bow_corpus[4310]"
   ]
  },
  {
   "cell_type": "markdown",
   "metadata": {},
   "source": [
    "Preview Bag Of Words for our sample preprocessed document."
   ]
  },
  {
   "cell_type": "code",
   "execution_count": 10,
   "metadata": {},
   "outputs": [
    {
     "name": "stdout",
     "output_type": "stream",
     "text": [
      "Word 164 (\"govt\") appears 1 time.\n",
      "Word 241 (\"group\") appears 1 time.\n",
      "Word 615 (\"local\") appears 1 time.\n",
      "Word 891 (\"want\") appears 1 time.\n",
      "Word 4175 (\"compulsory\") appears 1 time.\n",
      "Word 4176 (\"ratepayer\") appears 1 time.\n",
      "Word 4177 (\"voting\") appears 1 time.\n"
     ]
    }
   ],
   "source": [
    "bow_doc_4310 = bow_corpus[4310]\n",
    "for i in range(len(bow_doc_4310)):\n",
    "    print(\"Word {} (\\\"{}\\\") appears {} time.\".format(bow_doc_4310[i][0], \n",
    "                                               dictionary[bow_doc_4310[i][0]], \n",
    "bow_doc_4310[i][1]))"
   ]
  },
  {
   "cell_type": "markdown",
   "metadata": {},
   "source": [
    "## TF-IDF\n",
    "Create tf-idf model object using models.TfidfModel on ‘bow_corpus’ and save it to ‘tfidf’, then apply transformation to the entire corpus and call it ‘corpus_tfidf’. Finally we preview TF-IDF scores for our first document.\n"
   ]
  },
  {
   "cell_type": "code",
   "execution_count": 11,
   "metadata": {},
   "outputs": [
    {
     "name": "stdout",
     "output_type": "stream",
     "text": [
      "[(0, 0.6161125947380649),\n",
      " (1, 0.3308772069039591),\n",
      " (2, 0.5681053683635203),\n",
      " (3, 0.43379930266554434)]\n"
     ]
    }
   ],
   "source": [
    "from gensim import corpora, models\n",
    "tfidf = models.TfidfModel(bow_corpus)\n",
    "corpus_tfidf = tfidf[bow_corpus]\n",
    "from pprint import pprint\n",
    "for doc in corpus_tfidf:\n",
    "    pprint(doc)\n",
    "    break"
   ]
  },
  {
   "cell_type": "markdown",
   "metadata": {},
   "source": [
    "## Running LDA using Bag of Words\n",
    "Train our lda model using gensim.models.LdaMulticore and save it to ‘lda_model’. This takes a while.\n",
    "Look at the documentation of *gensim* for further details:\n",
    "\n",
    "https://radimrehurek.com/gensim/models/ldamulticore.html\n",
    "\n",
    "As parameters, we pass the corpus data as BoW (a list of lists of tuples), the prefixed number of topics, the actual words and the number of passes and workers used for modeling."
   ]
  },
  {
   "cell_type": "code",
   "execution_count": 12,
   "metadata": {},
   "outputs": [],
   "source": [
    "lda_model = gensim.models.LdaMulticore(bow_corpus, num_topics=10, id2word=dictionary, passes=2, workers=2)"
   ]
  },
  {
   "cell_type": "markdown",
   "metadata": {},
   "source": [
    "For each topic, we will explore the words occuring in that topic and its relative weight."
   ]
  },
  {
   "cell_type": "code",
   "execution_count": 13,
   "metadata": {},
   "outputs": [
    {
     "name": "stdout",
     "output_type": "stream",
     "text": [
      "Topic: 0 \n",
      "Words: 0.035*\"case\" + 0.024*\"court\" + 0.023*\"police\" + 0.021*\"woman\" + 0.020*\"child\" + 0.019*\"vaccine\" + 0.017*\"murder\" + 0.014*\"death\" + 0.014*\"charged\" + 0.014*\"face\"\n",
      "Topic: 1 \n",
      "Words: 0.038*\"police\" + 0.024*\"school\" + 0.014*\"missing\" + 0.013*\"guilty\" + 0.012*\"family\" + 0.011*\"drum\" + 0.010*\"search\" + 0.010*\"announces\" + 0.010*\"farmer\" + 0.010*\"help\"\n",
      "Topic: 2 \n",
      "Words: 0.019*\"victorian\" + 0.015*\"premier\" + 0.013*\"time\" + 0.013*\"claim\" + 0.012*\"speaks\" + 0.012*\"pandemic\" + 0.012*\"hotel\" + 0.011*\"road\" + 0.011*\"say\" + 0.009*\"black\"\n",
      "Topic: 3 \n",
      "Words: 0.023*\"government\" + 0.020*\"coast\" + 0.017*\"national\" + 0.016*\"plan\" + 0.016*\"live\" + 0.015*\"federal\" + 0.012*\"gold\" + 0.012*\"care\" + 0.010*\"aged\" + 0.010*\"industry\"\n",
      "Topic: 4 \n",
      "Words: 0.039*\"covid\" + 0.031*\"coronavirus\" + 0.019*\"open\" + 0.017*\"lockdown\" + 0.016*\"melbourne\" + 0.015*\"dy\" + 0.014*\"final\" + 0.014*\"sydney\" + 0.012*\"hospital\" + 0.012*\"crash\"\n",
      "Topic: 5 \n",
      "Words: 0.029*\"election\" + 0.023*\"health\" + 0.018*\"people\" + 0.017*\"minister\" + 0.017*\"say\" + 0.016*\"change\" + 0.015*\"morrison\" + 0.013*\"labor\" + 0.011*\"country\" + 0.011*\"indigenous\"\n",
      "Topic: 6 \n",
      "Words: 0.037*\"trump\" + 0.035*\"queensland\" + 0.030*\"victoria\" + 0.020*\"record\" + 0.020*\"covid\" + 0.020*\"news\" + 0.019*\"coronavirus\" + 0.016*\"market\" + 0.014*\"south\" + 0.012*\"brisbane\"\n",
      "Topic: 7 \n",
      "Words: 0.029*\"home\" + 0.021*\"tasmania\" + 0.018*\"business\" + 0.015*\"royal\" + 0.014*\"return\" + 0.012*\"commission\" + 0.012*\"power\" + 0.012*\"fight\" + 0.010*\"town\" + 0.009*\"perth\"\n",
      "Topic: 8 \n",
      "Words: 0.078*\"australia\" + 0.023*\"donald\" + 0.017*\"restriction\" + 0.015*\"coronavirus\" + 0.013*\"world\" + 0.012*\"australian\" + 0.010*\"climate\" + 0.010*\"win\" + 0.009*\"attack\" + 0.009*\"high\"\n",
      "Topic: 9 \n",
      "Words: 0.020*\"border\" + 0.017*\"north\" + 0.014*\"china\" + 0.014*\"protest\" + 0.013*\"west\" + 0.012*\"amid\" + 0.011*\"say\" + 0.011*\"president\" + 0.010*\"biden\" + 0.010*\"game\"\n"
     ]
    }
   ],
   "source": [
    "for idx, topic in lda_model.print_topics(-1):\n",
    "    print('Topic: {} \\nWords: {}'.format(idx, topic))"
   ]
  },
  {
   "cell_type": "markdown",
   "metadata": {},
   "source": [
    "Can you distinguish different topics using the words in each topic and their corresponding weights?"
   ]
  },
  {
   "cell_type": "markdown",
   "metadata": {},
   "source": [
    "## Running LDA using TF-IDF"
   ]
  },
  {
   "cell_type": "code",
   "execution_count": 14,
   "metadata": {},
   "outputs": [
    {
     "name": "stdout",
     "output_type": "stream",
     "text": [
      "Topic: 0 Word: 0.012*\"live\" + 0.011*\"lockdown\" + 0.010*\"coronavirus\" + 0.009*\"federal\" + 0.007*\"government\" + 0.007*\"care\" + 0.007*\"aged\" + 0.007*\"michael\" + 0.007*\"covid\" + 0.006*\"sport\"\n",
      "Topic: 1 Word: 0.013*\"drum\" + 0.011*\"election\" + 0.008*\"tuesday\" + 0.007*\"zealand\" + 0.007*\"australia\" + 0.005*\"liberal\" + 0.005*\"quiz\" + 0.005*\"politics\" + 0.004*\"migrant\" + 0.004*\"queensland\"\n",
      "Topic: 2 Word: 0.024*\"news\" + 0.019*\"donald\" + 0.013*\"rural\" + 0.010*\"interview\" + 0.009*\"missing\" + 0.008*\"wednesday\" + 0.007*\"national\" + 0.007*\"search\" + 0.007*\"daniel\" + 0.006*\"footage\"\n",
      "Topic: 3 Word: 0.010*\"andrew\" + 0.008*\"quarantine\" + 0.006*\"china\" + 0.006*\"coronavirus\" + 0.006*\"australia\" + 0.006*\"biden\" + 0.005*\"facebook\" + 0.005*\"know\" + 0.005*\"pleads\" + 0.005*\"queensland\"\n",
      "Topic: 4 Word: 0.021*\"covid\" + 0.016*\"coronavirus\" + 0.011*\"country\" + 0.009*\"health\" + 0.008*\"business\" + 0.008*\"hour\" + 0.008*\"scott\" + 0.007*\"speaks\" + 0.006*\"queensland\" + 0.006*\"update\"\n",
      "Topic: 5 Word: 0.008*\"monday\" + 0.008*\"christmas\" + 0.007*\"thursday\" + 0.006*\"rain\" + 0.006*\"storm\" + 0.006*\"bushfire\" + 0.006*\"friday\" + 0.006*\"cyclone\" + 0.005*\"outback\" + 0.005*\"november\"\n",
      "Topic: 6 Word: 0.014*\"crash\" + 0.014*\"police\" + 0.010*\"dead\" + 0.009*\"killed\" + 0.007*\"death\" + 0.007*\"dy\" + 0.006*\"shot\" + 0.006*\"border\" + 0.006*\"woman\" + 0.006*\"shooting\"\n",
      "Topic: 7 Word: 0.010*\"restriction\" + 0.010*\"climate\" + 0.009*\"australia\" + 0.009*\"coronavirus\" + 0.008*\"david\" + 0.008*\"finance\" + 0.007*\"sexual\" + 0.007*\"korea\" + 0.006*\"change\" + 0.006*\"briefing\"\n",
      "Topic: 8 Word: 0.009*\"final\" + 0.009*\"story\" + 0.007*\"league\" + 0.006*\"domestic\" + 0.006*\"open\" + 0.006*\"world\" + 0.006*\"august\" + 0.006*\"australian\" + 0.005*\"july\" + 0.005*\"grandstand\"\n",
      "Topic: 9 Word: 0.025*\"trump\" + 0.012*\"murder\" + 0.011*\"court\" + 0.010*\"charged\" + 0.010*\"morrison\" + 0.008*\"police\" + 0.008*\"street\" + 0.007*\"charge\" + 0.007*\"child\" + 0.007*\"accused\"\n"
     ]
    }
   ],
   "source": [
    "lda_model_tfidf = gensim.models.LdaMulticore(corpus_tfidf, num_topics=10, id2word=dictionary, passes=2, workers=4)\n",
    "for idx, topic in lda_model_tfidf.print_topics(-1):\n",
    "    print('Topic: {} Word: {}'.format(idx, topic))"
   ]
  },
  {
   "cell_type": "markdown",
   "metadata": {},
   "source": [
    "Again, can you distinguish different topics using the words in each topic and their corresponding weights? Do you observe any differences with the BoW version? Do these differences make sense given the information value weighing by the *tfidf* method?"
   ]
  },
  {
   "cell_type": "markdown",
   "metadata": {},
   "source": [
    "## Performance evaluation by classifying sample document using LDA Bag of Words model\n",
    "We will check where our test document would be classified."
   ]
  },
  {
   "cell_type": "code",
   "execution_count": 15,
   "metadata": {},
   "outputs": [
    {
     "data": {
      "text/plain": [
       "['ratepayer', 'group', 'want', 'compulsory', 'local', 'govt', 'voting']"
      ]
     },
     "execution_count": 15,
     "metadata": {},
     "output_type": "execute_result"
    }
   ],
   "source": [
    "processed_docs[4310]"
   ]
  },
  {
   "cell_type": "markdown",
   "metadata": {},
   "source": [
    "Document 4310 is already represented in the correct way. We can directly pass it to our *lda_model* to get the similarity scores for each topic. We represent each topic by printing "
   ]
  },
  {
   "cell_type": "code",
   "execution_count": 16,
   "metadata": {},
   "outputs": [
    {
     "name": "stdout",
     "output_type": "stream",
     "text": [
      "\n",
      "Score: 0.4100222885608673\t \n",
      "Topic: 0.023*\"government\" + 0.020*\"coast\" + 0.017*\"national\" + 0.016*\"plan\" + 0.016*\"live\" + 0.015*\"federal\" + 0.012*\"gold\" + 0.012*\"care\" + 0.010*\"aged\" + 0.010*\"industry\"\n",
      "\n",
      "Score: 0.24015240371227264\t \n",
      "Topic: 0.029*\"election\" + 0.023*\"health\" + 0.018*\"people\" + 0.017*\"minister\" + 0.017*\"say\" + 0.016*\"change\" + 0.015*\"morrison\" + 0.013*\"labor\" + 0.011*\"country\" + 0.011*\"indigenous\"\n",
      "\n",
      "Score: 0.137459397315979\t \n",
      "Topic: 0.037*\"trump\" + 0.035*\"queensland\" + 0.030*\"victoria\" + 0.020*\"record\" + 0.020*\"covid\" + 0.020*\"news\" + 0.019*\"coronavirus\" + 0.016*\"market\" + 0.014*\"south\" + 0.012*\"brisbane\"\n",
      "\n",
      "Score: 0.13729806244373322\t \n",
      "Topic: 0.038*\"police\" + 0.024*\"school\" + 0.014*\"missing\" + 0.013*\"guilty\" + 0.012*\"family\" + 0.011*\"drum\" + 0.010*\"search\" + 0.010*\"announces\" + 0.010*\"farmer\" + 0.010*\"help\"\n",
      "\n",
      "Score: 0.01251159142702818\t \n",
      "Topic: 0.020*\"border\" + 0.017*\"north\" + 0.014*\"china\" + 0.014*\"protest\" + 0.013*\"west\" + 0.012*\"amid\" + 0.011*\"say\" + 0.011*\"president\" + 0.010*\"biden\" + 0.010*\"game\"\n",
      "\n",
      "Score: 0.012511584907770157\t \n",
      "Topic: 0.029*\"home\" + 0.021*\"tasmania\" + 0.018*\"business\" + 0.015*\"royal\" + 0.014*\"return\" + 0.012*\"commission\" + 0.012*\"power\" + 0.012*\"fight\" + 0.010*\"town\" + 0.009*\"perth\"\n",
      "\n",
      "Score: 0.012511546723544598\t \n",
      "Topic: 0.019*\"victorian\" + 0.015*\"premier\" + 0.013*\"time\" + 0.013*\"claim\" + 0.012*\"speaks\" + 0.012*\"pandemic\" + 0.012*\"hotel\" + 0.011*\"road\" + 0.011*\"say\" + 0.009*\"black\"\n",
      "\n",
      "Score: 0.012511028908193111\t \n",
      "Topic: 0.035*\"case\" + 0.024*\"court\" + 0.023*\"police\" + 0.021*\"woman\" + 0.020*\"child\" + 0.019*\"vaccine\" + 0.017*\"murder\" + 0.014*\"death\" + 0.014*\"charged\" + 0.014*\"face\"\n",
      "\n",
      "Score: 0.012511028908193111\t \n",
      "Topic: 0.039*\"covid\" + 0.031*\"coronavirus\" + 0.019*\"open\" + 0.017*\"lockdown\" + 0.016*\"melbourne\" + 0.015*\"dy\" + 0.014*\"final\" + 0.014*\"sydney\" + 0.012*\"hospital\" + 0.012*\"crash\"\n",
      "\n",
      "Score: 0.012511028908193111\t \n",
      "Topic: 0.078*\"australia\" + 0.023*\"donald\" + 0.017*\"restriction\" + 0.015*\"coronavirus\" + 0.013*\"world\" + 0.012*\"australian\" + 0.010*\"climate\" + 0.010*\"win\" + 0.009*\"attack\" + 0.009*\"high\"\n"
     ]
    }
   ],
   "source": [
    "for index, score in sorted(lda_model[bow_corpus[4310]], key=lambda tup: -1*tup[1]):\n",
    "    print(\"\\nScore: {}\\t \\nTopic: {}\".format(score, lda_model.print_topic(index, 10)))"
   ]
  },
  {
   "cell_type": "markdown",
   "metadata": {},
   "source": [
    "Our test document has the highest probability to be part of the topic that our model assigned, which is the accurate classification."
   ]
  },
  {
   "cell_type": "markdown",
   "metadata": {},
   "source": [
    "### Analyzing our LDA model\n",
    "\n",
    "Now that we have a trained model let’s visualize the topics for interpretability. \n",
    "To do so, we’ll use a popular visualization package, *pyLDAvis* which is designed to help interactively with:\n",
    "\n",
    "1. Better understanding and interpreting individual topics, and\n",
    "2. Better understanding the relationships between the topics.\n",
    "\n",
    "For (1), you can manually select each topic to view its top most frequent and/or “relevant” terms, using different values of the λ parameter. This can help when you’re trying to assign a human interpretable name or “meaning” to each topic.\n",
    "For (2), exploring the Intertopic Distance Plot can help you learn about how topics relate to each other, including potential higher-level structure between groups of topics.\n",
    "\n",
    "You need to install *pyldavis* through the command line, following the instructions:\n",
    "\n",
    "https://anaconda.org/conda-forge/pyldavis\n",
    "\n",
    "WARNING: running the next cell takes a long time and you need some memory to run it. However, the result is spectacular."
   ]
  },
  {
   "cell_type": "code",
   "execution_count": 17,
   "metadata": {},
   "outputs": [
    {
     "name": "stderr",
     "output_type": "stream",
     "text": [
      "/Library/Frameworks/Python.framework/Versions/3.12/lib/python3.12/site-packages/joblib/externals/loky/backend/fork_exec.py:38: DeprecationWarning: This process (pid=48313) is multi-threaded, use of fork() may lead to deadlocks in the child.\n",
      "  pid = os.fork()\n",
      "/Library/Frameworks/Python.framework/Versions/3.12/lib/python3.12/site-packages/joblib/externals/loky/backend/fork_exec.py:38: DeprecationWarning: This process (pid=48313) is multi-threaded, use of fork() may lead to deadlocks in the child.\n",
      "  pid = os.fork()\n",
      "/Library/Frameworks/Python.framework/Versions/3.12/lib/python3.12/site-packages/joblib/externals/loky/backend/fork_exec.py:38: DeprecationWarning: This process (pid=48313) is multi-threaded, use of fork() may lead to deadlocks in the child.\n",
      "  pid = os.fork()\n",
      "/Library/Frameworks/Python.framework/Versions/3.12/lib/python3.12/site-packages/joblib/externals/loky/backend/fork_exec.py:38: DeprecationWarning: This process (pid=48313) is multi-threaded, use of fork() may lead to deadlocks in the child.\n",
      "  pid = os.fork()\n",
      "/Library/Frameworks/Python.framework/Versions/3.12/lib/python3.12/site-packages/joblib/externals/loky/backend/fork_exec.py:38: DeprecationWarning: This process (pid=48313) is multi-threaded, use of fork() may lead to deadlocks in the child.\n",
      "  pid = os.fork()\n",
      "/Library/Frameworks/Python.framework/Versions/3.12/lib/python3.12/site-packages/joblib/externals/loky/backend/fork_exec.py:38: DeprecationWarning: This process (pid=48313) is multi-threaded, use of fork() may lead to deadlocks in the child.\n",
      "  pid = os.fork()\n",
      "/Library/Frameworks/Python.framework/Versions/3.12/lib/python3.12/site-packages/joblib/externals/loky/backend/fork_exec.py:38: DeprecationWarning: This process (pid=48313) is multi-threaded, use of fork() may lead to deadlocks in the child.\n",
      "  pid = os.fork()\n",
      "/Library/Frameworks/Python.framework/Versions/3.12/lib/python3.12/site-packages/joblib/externals/loky/backend/fork_exec.py:38: DeprecationWarning: This process (pid=48313) is multi-threaded, use of fork() may lead to deadlocks in the child.\n",
      "  pid = os.fork()\n",
      "/Library/Frameworks/Python.framework/Versions/3.12/lib/python3.12/site-packages/joblib/externals/loky/backend/fork_exec.py:38: DeprecationWarning: This process (pid=48313) is multi-threaded, use of fork() may lead to deadlocks in the child.\n",
      "  pid = os.fork()\n"
     ]
    },
    {
     "data": {
      "text/html": [
       "\n",
       "<link rel=\"stylesheet\" type=\"text/css\" href=\"https://cdn.jsdelivr.net/gh/bmabey/pyLDAvis@3.4.0/pyLDAvis/js/ldavis.v1.0.0.css\">\n",
       "\n",
       "\n",
       "<div id=\"ldavis_el48313142802710566747033843\" style=\"background-color:white;\"></div>\n",
       "<script type=\"text/javascript\">\n",
       "\n",
       "var ldavis_el48313142802710566747033843_data = {\"mdsDat\": {\"x\": [0.27240174162047126, -0.17534482673026322, 0.2788266647526919, -0.06497383286364325, -0.13192589108116537, -0.2088855808775919, 0.052248915322381545, -0.00877291350968449, -0.12130010298054712, 0.10772582634735076], \"y\": [0.041530477088237344, 0.20092987654674616, -0.011226173107875572, -0.26560885359336456, -0.14287675089230578, -0.0959208295439575, -0.12621946968704967, 0.04358139652023356, 0.26393013692624634, 0.09188018974308965], \"topics\": [1, 2, 3, 4, 5, 6, 7, 8, 9, 10], \"cluster\": [1, 1, 1, 1, 1, 1, 1, 1, 1, 1], \"Freq\": [12.088389526968758, 10.863293434671286, 10.787523224786403, 10.155276418413631, 9.82663260267057, 9.747377998342674, 9.61004127527359, 9.043823002036712, 8.949280157114966, 8.928362359721408]}, \"tinfo\": {\"Term\": [\"australia\", \"police\", \"trump\", \"case\", \"queensland\", \"covid\", \"victoria\", \"election\", \"home\", \"government\", \"court\", \"health\", \"coronavirus\", \"donald\", \"school\", \"coast\", \"child\", \"record\", \"vaccine\", \"tasmania\", \"woman\", \"news\", \"national\", \"border\", \"open\", \"people\", \"murder\", \"minister\", \"victorian\", \"plan\", \"coast\", \"national\", \"live\", \"plan\", \"federal\", \"gold\", \"care\", \"aged\", \"industry\", \"rural\", \"fear\", \"local\", \"park\", \"farm\", \"week\", \"port\", \"green\", \"food\", \"social\", \"tourism\", \"land\", \"housing\", \"extended\", \"prince\", \"closure\", \"project\", \"tree\", \"territory\", \"impact\", \"mask\", \"government\", \"concern\", \"regional\", \"resident\", \"council\", \"water\", \"future\", \"funding\", \"case\", \"child\", \"vaccine\", \"murder\", \"charged\", \"trial\", \"scott\", \"charge\", \"quarantine\", \"accused\", \"face\", \"drug\", \"alleged\", \"court\", \"abuse\", \"arrested\", \"zealand\", \"look\", \"investigation\", \"jailed\", \"protester\", \"appeal\", \"shot\", \"coal\", \"kid\", \"prime\", \"rape\", \"allegation\", \"march\", \"hears\", \"sexual\", \"woman\", \"test\", \"police\", \"death\", \"life\", \"year\", \"coronavirus\", \"health\", \"election\", \"people\", \"minister\", \"morrison\", \"labor\", \"country\", \"service\", \"budget\", \"show\", \"rate\", \"rule\", \"assault\", \"parliament\", \"medium\", \"aboriginal\", \"push\", \"sport\", \"law\", \"briefing\", \"told\", \"russia\", \"hour\", \"parent\", \"refugee\", \"action\", \"remote\", \"decision\", \"defends\", \"increase\", \"campaign\", \"change\", \"rise\", \"indigenous\", \"say\", \"need\", \"government\", \"call\", \"community\", \"trump\", \"queensland\", \"victoria\", \"record\", \"news\", \"market\", \"andrew\", \"price\", \"street\", \"interview\", \"india\", \"warning\", \"travel\", \"wall\", \"video\", \"christmas\", \"michael\", \"mental\", \"fall\", \"close\", \"east\", \"share\", \"free\", \"company\", \"alan\", \"cyclone\", \"tuesday\", \"sale\", \"george\", \"thursday\", \"bank\", \"brisbane\", \"south\", \"trade\", \"covid\", \"coronavirus\", \"australian\", \"say\", \"year\", \"australia\", \"donald\", \"restriction\", \"climate\", \"win\", \"violence\", \"baby\", \"near\", \"cricket\", \"hit\", \"take\", \"hong\", \"kill\", \"johnson\", \"footage\", \"domestic\", \"kong\", \"airport\", \"leaf\", \"best\", \"survivor\", \"politics\", \"whale\", \"response\", \"aussie\", \"music\", \"artist\", \"breach\", \"boris\", \"early\", \"security\", \"world\", \"high\", \"centre\", \"chinese\", \"attack\", \"killed\", \"island\", \"million\", \"coronavirus\", \"australian\", \"canberra\", \"china\", \"sydney\", \"lockdown\", \"dy\", \"final\", \"tasmanian\", \"update\", \"weather\", \"mark\", \"doctor\", \"friday\", \"outbreak\", \"lead\", \"race\", \"grand\", \"patient\", \"truck\", \"open\", \"cut\", \"smith\", \"indonesia\", \"online\", \"injured\", \"global\", \"mount\", \"tourist\", \"point\", \"wild\", \"latest\", \"king\", \"tiger\", \"medical\", \"beat\", \"united\", \"super\", \"hospital\", \"covid\", \"melbourne\", \"coronavirus\", \"crash\", \"sydney\", \"australian\", \"storm\", \"border\", \"north\", \"protest\", \"amid\", \"president\", \"biden\", \"game\", \"liberal\", \"john\", \"season\", \"story\", \"talk\", \"hobart\", \"crisis\", \"david\", \"international\", \"peter\", \"jail\", \"sentenced\", \"korea\", \"chief\", \"meet\", \"monday\", \"warns\", \"thousand\", \"wednesday\", \"rollout\", \"killing\", \"staff\", \"program\", \"west\", \"student\", \"china\", \"south\", \"say\", \"australian\", \"home\", \"tasmania\", \"business\", \"royal\", \"return\", \"commission\", \"power\", \"fight\", \"town\", \"rain\", \"station\", \"number\", \"testing\", \"prison\", \"hill\", \"arrest\", \"release\", \"festival\", \"rugby\", \"james\", \"building\", \"womens\", \"save\", \"ship\", \"know\", \"england\", \"film\", \"animal\", \"good\", \"track\", \"star\", \"perth\", \"adelaide\", \"world\", \"sydney\", \"school\", \"missing\", \"guilty\", \"drum\", \"search\", \"announces\", \"northern\", \"emergency\", \"finance\", \"daniel\", \"white\", \"fatal\", \"teen\", \"bushfires\", \"rescue\", \"facebook\", \"cancer\", \"great\", \"continues\", \"money\", \"like\", \"france\", \"pleads\", \"drone\", \"boat\", \"flooding\", \"treatment\", \"mean\", \"southern\", \"probe\", \"beach\", \"police\", \"dead\", \"farmer\", \"help\", \"family\", \"house\", \"crash\", \"shooting\", \"woman\", \"victorian\", \"premier\", \"claim\", \"speaks\", \"pandemic\", \"hotel\", \"road\", \"black\", \"body\", \"question\", \"find\", \"history\", \"club\", \"expert\", \"turnbull\", \"result\", \"released\", \"economy\", \"loss\", \"kohler\", \"paul\", \"recovery\", \"day\", \"coach\", \"inside\", \"berejiklian\", \"football\", \"female\", \"cabinet\", \"hunt\", \"time\", \"study\", \"bushfire\", \"long\", \"player\", \"say\", \"state\", \"report\", \"death\"], \"Freq\": [43211.0, 32934.0, 20913.0, 21224.0, 20253.0, 39381.0, 17269.0, 17640.0, 14599.0, 22145.0, 14914.0, 14168.0, 46355.0, 12858.0, 12159.0, 13668.0, 11942.0, 11452.0, 11636.0, 10729.0, 18422.0, 11154.0, 11740.0, 10575.0, 10626.0, 11004.0, 10583.0, 10512.0, 9447.0, 10601.0, 13667.592752098264, 11739.830320187433, 10558.51966920122, 10600.453212644139, 10196.885687374655, 8480.699892914896, 8100.977403472602, 6923.357922737947, 6636.396669776998, 6540.029132092433, 6290.539464025636, 6225.71661157598, 5867.742765796729, 5481.804568590404, 5338.883824488512, 5133.447842695294, 5086.700830839225, 4674.658751082618, 4569.453115375516, 4290.56962243316, 4160.423253483769, 4123.824426415054, 3886.2313088664655, 3627.564066583782, 3461.648877191391, 3610.7514447730914, 3341.8837662367273, 3338.5216218852534, 3202.2763984510702, 3148.4045033168813, 15773.024103245069, 5818.250810242953, 5608.484923606775, 5320.25886848516, 5911.914572051763, 5227.17652299257, 3995.950837913109, 3943.8485257718594, 21223.799484743347, 11941.327370291558, 11635.464204492477, 10582.410205263834, 8507.82366021708, 8183.154739079851, 8007.718402508498, 6385.510417790554, 6010.988970872839, 5836.24929131955, 8321.770703255228, 5499.530594259561, 5380.87920379552, 14912.074379459282, 4850.078919139014, 4361.679946740119, 3981.0969007681597, 3937.466762937018, 3759.1689531970997, 3720.15359894641, 3574.4486942808353, 3559.495327036457, 3412.06187060302, 3137.017240389869, 3126.8329002323935, 3010.5560629377705, 2920.063503610788, 2884.4070720660716, 2685.2741519243523, 2655.4365708895953, 3896.5688979941297, 12703.290292158099, 6348.6615871830545, 13797.31956266497, 8822.862891739403, 5151.887358960402, 6755.540589765824, 4695.46830175966, 14167.655079544167, 17639.716476494294, 11003.691310477208, 10511.738212842754, 8956.817835034508, 7621.693072156139, 6853.437921457541, 6211.0860351620295, 5969.399876853391, 5565.799094471695, 5518.869875039581, 5448.773338133212, 5182.979378908573, 5122.252069173971, 5020.319828647881, 4537.07835452866, 3976.6542190133555, 3828.798239850143, 3936.0243734994974, 3629.9670973138686, 3566.9874879907106, 3392.1700415068253, 3375.550783476288, 3343.726948938464, 3303.8078353524875, 4059.944936031404, 2999.6809805582548, 2893.3611360908953, 2874.3861479009847, 2853.336896350974, 4306.526242831003, 9505.311282465791, 5560.717997031013, 6644.033970325703, 10215.101596517112, 3875.5952037982615, 6371.539631773001, 4788.391186047356, 4439.4981106981495, 20912.447004359397, 20252.583724822056, 17268.61389548019, 11452.139341581278, 11153.32734494103, 9069.460524061169, 5735.378747458928, 5441.146799513274, 5428.346819094377, 5153.0799333780615, 4375.473540948875, 4242.707996035286, 4190.9015158662205, 4084.236076513116, 4071.9915759777177, 4056.0438762189942, 3816.5570247226387, 3785.8433501297613, 4036.3160932875535, 3606.186045050821, 3338.3135862319414, 3287.185759886059, 3214.943845209831, 3108.9081093453487, 3101.7137403369884, 2960.545498047773, 2845.190044137923, 2838.3159805796263, 2792.217535075479, 2735.7607731231005, 3675.707225642498, 6840.985901785889, 7917.802278358061, 3322.707208643011, 11432.960387672663, 10863.080592711281, 6019.94885708614, 3539.525000583423, 3321.309729798175, 43210.99051958952, 12857.713137589932, 9334.297304274745, 5729.980499454605, 5642.39419931509, 4458.295072732862, 4365.520628068859, 4166.996486353621, 3884.010154945885, 3750.232532939941, 3520.3205544741413, 3310.054483802097, 3272.019932174971, 3171.047271838081, 3155.13660156791, 3127.598813914711, 3108.531340215752, 2878.0473632814887, 2677.917404083679, 2478.4124729153145, 2398.2456776624126, 2328.1599049223355, 2322.1680793814016, 2274.0522478163975, 2233.4537426582656, 2226.2569104427694, 2148.425732698584, 2103.3321999720115, 2101.655719312305, 2083.729153449633, 3197.835952586137, 6982.646333537305, 4742.855815766665, 3574.402726499801, 3542.2439017145643, 5136.361930463542, 3886.8763254894816, 4041.1388035379314, 3752.182012868687, 8220.997275255326, 6735.589331670694, 4273.934200025899, 3978.201981953434, 3140.394383614731, 9242.712054669124, 7984.171130325784, 7796.8099355403665, 6189.395074668167, 5018.998529374754, 4496.863761368829, 4473.2291828267325, 4278.337239857868, 3724.7659646513275, 3656.6838337797894, 3625.721254038434, 3210.8531741565516, 3171.5220466661076, 3125.786259405651, 3038.174027352004, 10623.276021631735, 2964.9782804787806, 2939.3693446548996, 2932.9253611625127, 2921.427257949694, 2812.2554120812906, 2650.3259410202245, 2630.098737486942, 2364.376854708451, 2508.1880483601694, 2295.2291531001197, 3603.7124816025366, 2141.3671734980194, 2143.4337117134214, 2058.5331567360704, 4655.582986730644, 2535.1646326063533, 3043.128561022268, 6803.849175365663, 21377.505145745465, 8744.396737770223, 17170.410234084455, 6360.6488642110835, 7689.0731501897635, 6270.154254377199, 3378.4937775203093, 10574.35808579425, 9060.559698177582, 7424.3000178588945, 6229.2406538269615, 5768.505460601099, 5201.513688303, 5150.152943111816, 4893.369860744596, 4826.180518039758, 4729.691880939239, 4316.068378146864, 4170.393873450358, 4069.2206522207225, 4045.6552404628724, 4037.139256620674, 3906.996031410281, 3884.778243193013, 3725.4716691710814, 3705.310183789509, 3667.9817921437257, 3572.5175301948284, 3532.1472302283164, 3512.61260504029, 3442.122805653771, 3282.882442166338, 3191.206278744462, 2987.764970830681, 2936.0678861942843, 2856.6630775010008, 4864.66117438669, 6903.52521264976, 5040.653306604537, 7626.1308741027515, 4757.045642975192, 5833.2719508952205, 3626.710726806729, 14598.241933950849, 10728.914373433097, 9220.271415590287, 7578.38053513643, 7135.686841983034, 6228.7981951127485, 6189.818068611303, 6141.265979118845, 4934.950352136486, 4646.600238458794, 4315.209696766366, 4199.114640858683, 4123.329769376101, 4020.9688527335293, 3926.577859238764, 3848.254173949645, 3319.1216415956624, 3225.9315856881813, 3208.9393494216242, 3199.832456559599, 3177.5635815193214, 3096.140771239226, 3083.045836868668, 3025.8813024811725, 2742.1347434017275, 2594.770532713517, 2575.8692108130413, 2564.9558178320494, 2538.5430092074, 2456.6210125993484, 4103.146246997743, 4800.046372367199, 3936.719373218104, 3692.4125616539786, 2617.4203719756038, 12158.900645406857, 7011.448897255106, 6361.441056078883, 5707.441147753862, 5257.528990832931, 5229.464017942245, 4852.661455341497, 4737.805829254937, 4603.158665189664, 4523.674610816873, 4099.02772829644, 3839.912608736111, 3784.3500109991405, 3622.196078875298, 3617.717311503285, 3578.561856551227, 3407.8606620295172, 3391.468992373089, 3075.016788568317, 3033.260441382951, 2969.2858539016756, 2840.312639163112, 2613.283161485829, 2441.330284646324, 2414.9783746318567, 2394.9458309549427, 2235.9589669021075, 2199.047818904209, 2160.360777750794, 2150.446722336866, 5149.450126139557, 19124.44170821615, 4923.359586031626, 5211.9981380629015, 5199.897682705957, 5946.654307464026, 4484.933648155105, 4894.911535990298, 3451.2236357224424, 3082.000092782626, 9446.24100148979, 7309.941812754368, 6288.971082737104, 6153.268959651315, 5980.190209207918, 5920.475362225929, 5611.928382060765, 4754.474373978909, 4200.651843123907, 4143.254879379386, 3897.7489437259846, 3673.1530748162413, 3595.967095221824, 3363.072221969816, 3201.878762819249, 3197.2427624509487, 3123.6854045059845, 3104.0652596649134, 3016.140534048107, 2949.6467556966377, 2660.0610427660936, 2719.4255174887767, 2586.198220087715, 2571.7691045677707, 2440.4576277114215, 2409.9078798629184, 2328.4014220482677, 2314.555168791469, 2230.540204647671, 2198.6039369372397, 6328.187983082844, 2687.040174519421, 4372.49376545835, 2852.1642116523944, 2902.5457778364093, 5334.936891209405, 3406.772156423785, 2986.6458791647115, 2784.711236615067], \"Total\": [43211.0, 32934.0, 20913.0, 21224.0, 20253.0, 39381.0, 17269.0, 17640.0, 14599.0, 22145.0, 14914.0, 14168.0, 46355.0, 12858.0, 12159.0, 13668.0, 11942.0, 11452.0, 11636.0, 10729.0, 18422.0, 11154.0, 11740.0, 10575.0, 10626.0, 11004.0, 10583.0, 10512.0, 9447.0, 10601.0, 13668.409834730937, 11740.64739829567, 10559.336793858327, 10601.290358017144, 10197.702796197684, 8481.516959088953, 8101.794497874671, 6924.17503232206, 6637.213737704967, 6540.846161292367, 6291.356618955827, 6226.53372526054, 5868.559843711145, 5482.621636279904, 5339.700918190856, 5134.265223781739, 5087.517893715496, 4675.475952550104, 4570.270238343844, 4291.386714064073, 4161.24032513684, 4124.641496044213, 3887.048387129317, 3628.381189479485, 3462.4660147929562, 3611.6310005524856, 3342.700854245202, 3339.3387364376617, 3203.0934944204255, 3149.221887621145, 22145.28457655323, 7103.340474567269, 7182.611777667635, 6678.924661217159, 7821.021870895825, 8805.053646634458, 4946.13601549755, 5272.3171503810745, 21224.637028840618, 11942.164782747835, 11636.301950093743, 10583.247582585653, 8508.66103670989, 8183.992146687786, 8008.55593905215, 6386.347809094492, 6011.826969478232, 5837.089768741174, 8323.000114020164, 5500.367985496334, 5381.716593751167, 14914.54995832386, 4850.916318156906, 4362.517336421781, 3981.934364576641, 3938.3042277264526, 3760.006402990762, 3720.990981935393, 3575.2861533487117, 3560.3327252747, 3412.8992849644596, 3137.85468524382, 3127.6703524883774, 3011.393553667493, 2920.9008943952726, 2885.244501451782, 2686.115366581573, 2656.2739773147946, 4177.311029234177, 18422.256396897315, 8936.162272248592, 32934.39106109894, 16954.335040896884, 9429.062002888677, 18889.744842056272, 46355.14680979031, 14168.482492753023, 17640.78098539573, 11004.518731284732, 10512.565614830995, 8957.645305491047, 7622.520744143836, 6854.2654365057615, 6211.913435336706, 5970.227310706535, 5566.626526611398, 5519.697247682353, 5449.60076307753, 5183.806792279359, 5123.079463691823, 5021.147278470626, 4537.905747447441, 3977.4816009821366, 3829.625705697239, 3936.88913681684, 3630.794761074252, 3567.8149148372254, 3392.997451337317, 3376.3781689036523, 3344.5543563921524, 3304.635239732384, 4060.9891305968467, 3000.5084132769775, 2894.189018277214, 2875.2135210284832, 2854.1643906544036, 4447.404940029301, 12398.812157295935, 7183.068079136087, 9237.939345063505, 31482.724264263597, 5021.415550566602, 22145.28457655323, 10820.132264199274, 8913.364336240333, 20913.29419456734, 20253.430868487478, 17269.461097708816, 11452.986434279926, 11154.174443799924, 9070.30760182533, 5736.226290453908, 5441.993867577999, 5429.19389904572, 5153.92696678198, 4376.320670880927, 4243.555092942761, 4191.748671257333, 4085.083113930091, 4072.8387063019613, 4056.891005623903, 3817.404107564655, 3786.6905095671054, 4037.2496768782553, 3607.0331401488647, 3339.1606642196607, 3288.032798142489, 3215.7909438084066, 3109.7551999672505, 3102.560891796828, 2961.3925689116595, 2846.0370833314387, 2839.1633689422847, 2793.0646778355813, 2736.607815139362, 3681.183728043924, 9106.381008731429, 12675.605505013711, 3746.9805913597625, 39381.87784515989, 46355.14680979031, 29343.311348919786, 31482.724264263597, 18889.744842056272, 43211.837660847996, 12858.55164997989, 9335.136030467009, 5730.818947114657, 5643.233038785448, 4459.13344393553, 4366.359041975018, 4167.834902499932, 3884.8485412133155, 3751.070935659942, 3521.184458801337, 3310.8928732766294, 3272.858335200294, 3171.8856748781177, 3155.9750536344686, 3128.437177979019, 3109.3697314724136, 2878.885756316922, 2678.755816663968, 2479.2508673236375, 2399.0840989094418, 2328.998312622452, 2323.0064876645424, 2274.890688697783, 2234.2924637228994, 2227.09531619047, 2149.2641316153727, 2104.1706474702855, 2102.4941579861716, 2084.5681478529104, 3221.0606020780647, 12427.338196691906, 7142.903024690901, 4741.821906965277, 4801.905303609774, 9276.535623483798, 5903.915599766414, 7661.392783714338, 6685.9194508950595, 46355.14680979031, 29343.311348919786, 9683.397562556744, 14680.309375472301, 21749.662783454398, 9243.546199495377, 7985.004925017908, 7797.644907668913, 6190.22888951812, 5019.832414070154, 4497.697614947927, 4474.063013439365, 4279.171058142664, 3725.5997581708425, 3657.517689152009, 3626.5550550174885, 3211.6869732932196, 3172.3558224005424, 3126.6200772971183, 3039.007825550236, 10626.234482527301, 2965.81209213343, 2940.2031725801235, 2933.7591737808293, 2922.2610956741996, 2813.089202558229, 2651.160466747916, 2630.932562772208, 2365.2106722654257, 2509.0969943650366, 2296.0629568678924, 3605.0681776251, 2142.2010125022903, 2144.269977916184, 2059.366984504377, 4657.516399919724, 2540.998648007224, 3240.9998224265887, 8553.194821610106, 39381.87784515989, 16339.894832149843, 46355.14680979031, 11256.29582650598, 21749.662783454398, 29343.311348919786, 5740.398256205077, 10575.19273705107, 9061.394164509395, 7425.134537669292, 6230.075207403956, 5769.3399413628595, 5202.348516081434, 5150.98814894385, 4894.204354871434, 4827.014994392904, 4730.527208886832, 4316.902852830204, 4171.228333762024, 4070.0551312914, 4046.489732479475, 4037.973740689418, 3907.830522590343, 3885.612723606589, 3726.3061261428425, 3706.1446686241425, 3668.8162167788464, 3573.352165754193, 3532.9817026367095, 3513.4470721479092, 3442.9572915166746, 3283.7169250228712, 3192.0407402661617, 2988.5998971232734, 2936.902378742582, 2857.4975675499736, 4866.115186544027, 6934.974890952742, 7094.812144324627, 14680.309375472301, 12675.605505013711, 31482.724264263597, 29343.311348919786, 14599.069200872855, 10729.741640295159, 9221.100287636229, 7579.207773709384, 7136.514104753123, 6229.625426659029, 6190.645409719997, 6142.0932327219, 4935.777616305013, 4647.427487656472, 4316.039036158383, 4199.941924268676, 4124.157105765877, 4021.7961194870677, 3927.4050935939017, 3849.0814616104103, 3319.948911470133, 3226.758933141955, 3209.7665921789267, 3200.6597077868073, 3178.3908292094134, 3096.968027588386, 3083.8730915847586, 3026.7085639372217, 2742.962013898893, 2595.5979036348813, 2576.696466765383, 2565.7830620907307, 2539.373543752353, 2457.448267163429, 4107.0200790213985, 9099.980333046582, 10625.671017195742, 12427.338196691906, 21749.662783454398, 12159.726413966675, 7012.274634179517, 6362.266792946768, 5708.2668772196785, 5258.354720242451, 5230.289832048611, 4853.487261980995, 4738.631595144347, 4603.984461841791, 4524.500468220873, 4099.853486245295, 3840.738338238917, 3785.1757684055137, 3623.021923890557, 3618.543077134303, 3579.3876471622934, 3408.68665357063, 3392.2947343794526, 3075.842547448626, 3034.086207444678, 2970.111636593523, 2841.1384687899526, 2614.1088768047557, 2442.156048945713, 2415.8041067370705, 2395.771608260328, 2236.7847324357263, 2199.8736094010214, 2161.186538362052, 2151.2724682763433, 5634.460093895294, 32934.39106109894, 7293.609304038504, 8983.697584293946, 9093.48337325471, 12279.983967842132, 9040.71683614764, 11256.29582650598, 5196.583658145879, 18422.256396897315, 9447.069581607699, 7310.770376083885, 6289.799617715246, 6154.097492760513, 5981.0209271516005, 5921.303999575324, 5612.756898960381, 4755.302930077493, 4201.48036836831, 4144.08340900916, 3898.577474424892, 3673.981611444838, 3596.7956194611406, 3363.9007579142644, 3202.70726484091, 3198.0713083434475, 3124.513948551246, 3104.893817775997, 3016.969063894663, 2950.4754098620033, 2660.889588978328, 2720.2776034962076, 2587.026773178258, 2572.597625744184, 2441.2861827582105, 2410.736484100132, 2329.2299593219177, 2315.383709622296, 2231.3688032427913, 2199.432482944484, 8071.815747542779, 3176.226812779254, 8427.050668441949, 3804.0827897002314, 4180.29171497734, 31482.724264263597, 11337.486089131457, 9778.96606155695, 16954.335040896884], \"Category\": [\"Default\", \"Default\", \"Default\", \"Default\", \"Default\", \"Default\", \"Default\", \"Default\", \"Default\", \"Default\", \"Default\", \"Default\", \"Default\", \"Default\", \"Default\", \"Default\", \"Default\", \"Default\", \"Default\", \"Default\", \"Default\", \"Default\", \"Default\", \"Default\", \"Default\", \"Default\", \"Default\", \"Default\", \"Default\", \"Default\", \"Topic1\", \"Topic1\", \"Topic1\", \"Topic1\", \"Topic1\", \"Topic1\", \"Topic1\", \"Topic1\", \"Topic1\", \"Topic1\", \"Topic1\", \"Topic1\", \"Topic1\", \"Topic1\", \"Topic1\", \"Topic1\", \"Topic1\", \"Topic1\", \"Topic1\", \"Topic1\", \"Topic1\", \"Topic1\", \"Topic1\", \"Topic1\", \"Topic1\", \"Topic1\", \"Topic1\", \"Topic1\", \"Topic1\", \"Topic1\", \"Topic1\", \"Topic1\", \"Topic1\", \"Topic1\", \"Topic1\", \"Topic1\", \"Topic1\", \"Topic1\", \"Topic2\", \"Topic2\", \"Topic2\", \"Topic2\", \"Topic2\", \"Topic2\", \"Topic2\", \"Topic2\", \"Topic2\", \"Topic2\", \"Topic2\", \"Topic2\", \"Topic2\", \"Topic2\", \"Topic2\", \"Topic2\", \"Topic2\", \"Topic2\", \"Topic2\", \"Topic2\", \"Topic2\", \"Topic2\", \"Topic2\", \"Topic2\", \"Topic2\", \"Topic2\", \"Topic2\", \"Topic2\", \"Topic2\", \"Topic2\", \"Topic2\", \"Topic2\", \"Topic2\", \"Topic2\", \"Topic2\", \"Topic2\", \"Topic2\", \"Topic2\", \"Topic3\", \"Topic3\", \"Topic3\", \"Topic3\", \"Topic3\", \"Topic3\", \"Topic3\", \"Topic3\", \"Topic3\", \"Topic3\", \"Topic3\", \"Topic3\", \"Topic3\", \"Topic3\", \"Topic3\", \"Topic3\", \"Topic3\", \"Topic3\", \"Topic3\", \"Topic3\", \"Topic3\", \"Topic3\", \"Topic3\", \"Topic3\", \"Topic3\", \"Topic3\", \"Topic3\", \"Topic3\", \"Topic3\", \"Topic3\", \"Topic3\", \"Topic3\", \"Topic3\", \"Topic3\", \"Topic3\", \"Topic3\", \"Topic3\", \"Topic3\", \"Topic3\", \"Topic4\", \"Topic4\", \"Topic4\", \"Topic4\", \"Topic4\", \"Topic4\", \"Topic4\", \"Topic4\", \"Topic4\", \"Topic4\", \"Topic4\", \"Topic4\", \"Topic4\", \"Topic4\", \"Topic4\", \"Topic4\", \"Topic4\", \"Topic4\", \"Topic4\", \"Topic4\", \"Topic4\", \"Topic4\", \"Topic4\", \"Topic4\", \"Topic4\", \"Topic4\", \"Topic4\", \"Topic4\", \"Topic4\", \"Topic4\", \"Topic4\", \"Topic4\", \"Topic4\", \"Topic4\", \"Topic4\", \"Topic4\", \"Topic4\", \"Topic4\", \"Topic4\", \"Topic5\", \"Topic5\", \"Topic5\", \"Topic5\", \"Topic5\", \"Topic5\", \"Topic5\", \"Topic5\", \"Topic5\", \"Topic5\", \"Topic5\", \"Topic5\", \"Topic5\", \"Topic5\", \"Topic5\", \"Topic5\", \"Topic5\", \"Topic5\", \"Topic5\", \"Topic5\", \"Topic5\", \"Topic5\", \"Topic5\", \"Topic5\", \"Topic5\", \"Topic5\", \"Topic5\", \"Topic5\", \"Topic5\", \"Topic5\", \"Topic5\", \"Topic5\", \"Topic5\", \"Topic5\", \"Topic5\", \"Topic5\", \"Topic5\", \"Topic5\", \"Topic5\", \"Topic5\", \"Topic5\", \"Topic5\", \"Topic5\", \"Topic5\", \"Topic6\", \"Topic6\", \"Topic6\", \"Topic6\", \"Topic6\", \"Topic6\", \"Topic6\", \"Topic6\", \"Topic6\", \"Topic6\", \"Topic6\", \"Topic6\", \"Topic6\", \"Topic6\", \"Topic6\", \"Topic6\", \"Topic6\", \"Topic6\", \"Topic6\", \"Topic6\", \"Topic6\", \"Topic6\", \"Topic6\", \"Topic6\", \"Topic6\", \"Topic6\", \"Topic6\", \"Topic6\", \"Topic6\", \"Topic6\", \"Topic6\", \"Topic6\", \"Topic6\", \"Topic6\", \"Topic6\", \"Topic6\", \"Topic6\", \"Topic6\", \"Topic6\", \"Topic6\", \"Topic6\", \"Topic7\", \"Topic7\", \"Topic7\", \"Topic7\", \"Topic7\", \"Topic7\", \"Topic7\", \"Topic7\", \"Topic7\", \"Topic7\", \"Topic7\", \"Topic7\", \"Topic7\", \"Topic7\", \"Topic7\", \"Topic7\", \"Topic7\", \"Topic7\", \"Topic7\", \"Topic7\", \"Topic7\", \"Topic7\", \"Topic7\", \"Topic7\", \"Topic7\", \"Topic7\", \"Topic7\", \"Topic7\", \"Topic7\", \"Topic7\", \"Topic7\", \"Topic7\", \"Topic7\", \"Topic7\", \"Topic7\", \"Topic7\", \"Topic8\", \"Topic8\", \"Topic8\", \"Topic8\", \"Topic8\", \"Topic8\", \"Topic8\", \"Topic8\", \"Topic8\", \"Topic8\", \"Topic8\", \"Topic8\", \"Topic8\", \"Topic8\", \"Topic8\", \"Topic8\", \"Topic8\", \"Topic8\", \"Topic8\", \"Topic8\", \"Topic8\", \"Topic8\", \"Topic8\", \"Topic8\", \"Topic8\", \"Topic8\", \"Topic8\", \"Topic8\", \"Topic8\", \"Topic8\", \"Topic8\", \"Topic8\", \"Topic8\", \"Topic8\", \"Topic8\", \"Topic9\", \"Topic9\", \"Topic9\", \"Topic9\", \"Topic9\", \"Topic9\", \"Topic9\", \"Topic9\", \"Topic9\", \"Topic9\", \"Topic9\", \"Topic9\", \"Topic9\", \"Topic9\", \"Topic9\", \"Topic9\", \"Topic9\", \"Topic9\", \"Topic9\", \"Topic9\", \"Topic9\", \"Topic9\", \"Topic9\", \"Topic9\", \"Topic9\", \"Topic9\", \"Topic9\", \"Topic9\", \"Topic9\", \"Topic9\", \"Topic9\", \"Topic9\", \"Topic9\", \"Topic9\", \"Topic9\", \"Topic9\", \"Topic9\", \"Topic9\", \"Topic9\", \"Topic9\", \"Topic10\", \"Topic10\", \"Topic10\", \"Topic10\", \"Topic10\", \"Topic10\", \"Topic10\", \"Topic10\", \"Topic10\", \"Topic10\", \"Topic10\", \"Topic10\", \"Topic10\", \"Topic10\", \"Topic10\", \"Topic10\", \"Topic10\", \"Topic10\", \"Topic10\", \"Topic10\", \"Topic10\", \"Topic10\", \"Topic10\", \"Topic10\", \"Topic10\", \"Topic10\", \"Topic10\", \"Topic10\", \"Topic10\", \"Topic10\", \"Topic10\", \"Topic10\", \"Topic10\", \"Topic10\", \"Topic10\", \"Topic10\", \"Topic10\", \"Topic10\", \"Topic10\"], \"logprob\": [30.0, 29.0, 28.0, 27.0, 26.0, 25.0, 24.0, 23.0, 22.0, 21.0, 20.0, 19.0, 18.0, 17.0, 16.0, 15.0, 14.0, 13.0, 12.0, 11.0, 10.0, 9.0, 8.0, 7.0, 6.0, 5.0, 4.0, 3.0, 2.0, 1.0, -3.9071, -4.0592, -4.1652, -4.1613, -4.2001, -4.3844, -4.4302, -4.5873, -4.6296, -4.6442, -4.6831, -4.6935, -4.7527, -4.8207, -4.8472, -4.8864, -4.8955, -4.98, -5.0028, -5.0658, -5.0966, -5.1054, -5.1647, -5.2336, -5.2804, -5.2383, -5.3156, -5.3166, -5.3583, -5.3753, -3.7639, -4.7612, -4.7979, -4.8507, -4.7452, -4.8683, -5.1369, -5.15, -3.3602, -3.9353, -3.9613, -4.0561, -4.2743, -4.3132, -4.3349, -4.5613, -4.6217, -4.6512, -4.2964, -4.7107, -4.7325, -3.7131, -4.8363, -4.9425, -5.0338, -5.0448, -5.0911, -5.1016, -5.1415, -5.1457, -5.188, -5.272, -5.2753, -5.3132, -5.3437, -5.356, -5.4275, -5.4387, -5.0552, -3.8735, -4.5671, -3.7908, -4.238, -4.776, -4.505, -4.8687, -3.7574, -3.5382, -4.0101, -4.0558, -4.2159, -4.3773, -4.4836, -4.582, -4.6217, -4.6917, -4.7001, -4.7129, -4.7629, -4.7747, -4.7948, -4.896, -5.0279, -5.0658, -5.0381, -5.1191, -5.1366, -5.1868, -5.1918, -5.2012, -5.2132, -5.0071, -5.3098, -5.3459, -5.3525, -5.3598, -4.9482, -4.1565, -4.6926, -4.5146, -4.0845, -5.0536, -4.5565, -4.8421, -4.9178, -3.3076, -3.3396, -3.499, -3.9097, -3.9362, -4.143, -4.6013, -4.6539, -4.6563, -4.7083, -4.8719, -4.9027, -4.915, -4.9408, -4.9438, -4.9477, -5.0086, -5.0167, -4.9526, -5.0653, -5.1425, -5.1579, -5.1801, -5.2137, -5.216, -5.2625, -5.3023, -5.3047, -5.3211, -5.3415, -5.0462, -4.425, -4.2788, -5.1471, -3.9114, -3.9626, -4.5528, -5.0839, -5.1476, -2.5489, -3.7611, -4.0813, -4.5693, -4.5847, -4.8203, -4.8413, -4.8878, -4.9582, -4.9932, -5.0565, -5.1181, -5.1296, -5.161, -5.166, -5.1748, -5.1809, -5.2579, -5.33, -5.4074, -5.4403, -5.4699, -5.4725, -5.4935, -5.5115, -5.5147, -5.5503, -5.5715, -5.5723, -5.5809, -5.1526, -4.3716, -4.7584, -5.0412, -5.0503, -4.6787, -4.9574, -4.9185, -4.9927, -4.2083, -4.4076, -4.8625, -4.9342, -5.1707, -4.0831, -4.2295, -4.2532, -4.4841, -4.6937, -4.8035, -4.8088, -4.8534, -4.9919, -5.0104, -5.0189, -5.1404, -5.1527, -5.1672, -5.1957, -3.9439, -5.2201, -5.2287, -5.2309, -5.2349, -5.2729, -5.3322, -5.3399, -5.4464, -5.3874, -5.4761, -5.025, -5.5455, -5.5445, -5.5849, -4.7689, -5.3767, -5.194, -4.3894, -3.2446, -4.1385, -3.4637, -4.4568, -4.2671, -4.4711, -5.0895, -3.9343, -4.0888, -4.288, -4.4635, -4.5403, -4.6438, -4.6537, -4.7049, -4.7187, -4.7389, -4.8304, -4.8647, -4.8893, -4.8951, -4.8972, -4.93, -4.9357, -4.9775, -4.983, -4.9931, -5.0195, -5.0308, -5.0364, -5.0566, -5.104, -5.1323, -5.1982, -5.2157, -5.2431, -4.7107, -4.3607, -4.6752, -4.2612, -4.7331, -4.5292, -5.0044, -3.5511, -3.8591, -4.0106, -4.2067, -4.2669, -4.4028, -4.4091, -4.417, -4.6357, -4.6959, -4.7699, -4.7971, -4.8154, -4.8405, -4.8642, -4.8844, -5.0323, -5.0608, -5.0661, -5.0689, -5.0759, -5.1019, -5.1061, -5.1248, -5.2233, -5.2785, -5.2858, -5.2901, -5.3004, -5.3332, -4.8203, -4.6634, -4.8617, -4.9257, -5.2698, -3.7234, -4.274, -4.3712, -4.4797, -4.5618, -4.5672, -4.642, -4.6659, -4.6948, -4.7122, -4.8108, -4.8761, -4.8906, -4.9344, -4.9357, -4.9465, -4.9954, -5.0002, -5.0982, -5.1119, -5.1332, -5.1776, -5.2609, -5.329, -5.3398, -5.3481, -5.4168, -5.4335, -5.4512, -5.4558, -4.5826, -3.2705, -4.6275, -4.5705, -4.5729, -4.4387, -4.7208, -4.6333, -4.9828, -5.0959, -3.9735, -4.2299, -4.3804, -4.4022, -4.4307, -4.4407, -4.4943, -4.6601, -4.7839, -4.7977, -4.8588, -4.9181, -4.9393, -5.0063, -5.0554, -5.0569, -5.0801, -5.0864, -5.1152, -5.1375, -5.2408, -5.2187, -5.269, -5.2746, -5.327, -5.3396, -5.374, -5.3799, -5.4169, -5.4313, -4.3741, -5.2307, -4.7438, -5.1711, -5.1536, -4.5449, -4.9934, -5.125, -5.195], \"loglift\": [30.0, 29.0, 28.0, 27.0, 26.0, 25.0, 24.0, 23.0, 22.0, 21.0, 20.0, 19.0, 18.0, 17.0, 16.0, 15.0, 14.0, 13.0, 12.0, 11.0, 10.0, 9.0, 8.0, 7.0, 6.0, 5.0, 4.0, 3.0, 2.0, 1.0, 2.1129, 2.1129, 2.1128, 2.1128, 2.1128, 2.1128, 2.1128, 2.1128, 2.1128, 2.1128, 2.1128, 2.1128, 2.1128, 2.1128, 2.1128, 2.1128, 2.1128, 2.1127, 2.1127, 2.1127, 2.1127, 2.1127, 2.1127, 2.1127, 2.1127, 2.1127, 2.1127, 2.1127, 2.1127, 2.1127, 1.7736, 1.9134, 1.8655, 1.8855, 1.8331, 1.5915, 1.8996, 1.8226, 2.2197, 2.2197, 2.2197, 2.2197, 2.2197, 2.2197, 2.2197, 2.2196, 2.2196, 2.2196, 2.2196, 2.2196, 2.2196, 2.2196, 2.2196, 2.2196, 2.2196, 2.2196, 2.2196, 2.2196, 2.2195, 2.2195, 2.2195, 2.2195, 2.2195, 2.2195, 2.2195, 2.2195, 2.2195, 2.2195, 2.1502, 1.8481, 1.8779, 1.3497, 1.5666, 1.6153, 1.1915, -0.07, 2.2267, 2.2267, 2.2267, 2.2267, 2.2267, 2.2267, 2.2267, 2.2266, 2.2266, 2.2266, 2.2266, 2.2266, 2.2266, 2.2266, 2.2266, 2.2266, 2.2266, 2.2266, 2.2266, 2.2266, 2.2265, 2.2265, 2.2265, 2.2265, 2.2265, 2.2265, 2.2265, 2.2265, 2.2265, 2.2265, 2.1946, 1.961, 1.9708, 1.8972, 1.1012, 1.9678, 0.981, 1.4116, 1.5298, 2.2871, 2.2871, 2.2871, 2.2871, 2.2871, 2.2871, 2.287, 2.287, 2.287, 2.287, 2.287, 2.287, 2.287, 2.287, 2.287, 2.287, 2.287, 2.287, 2.2869, 2.2869, 2.2869, 2.2869, 2.2869, 2.2869, 2.2869, 2.2869, 2.2869, 2.2869, 2.2869, 2.2869, 2.2857, 2.0011, 1.8166, 2.167, 1.0504, 0.8362, 0.7032, 0.1017, 0.5489, 2.3201, 2.32, 2.32, 2.3199, 2.3199, 2.3199, 2.3199, 2.3199, 2.3199, 2.3199, 2.3198, 2.3198, 2.3198, 2.3198, 2.3198, 2.3198, 2.3198, 2.3198, 2.3198, 2.3197, 2.3197, 2.3197, 2.3197, 2.3197, 2.3197, 2.3197, 2.3197, 2.3197, 2.3197, 2.3197, 2.3128, 1.7436, 1.9106, 2.0375, 2.0158, 1.7289, 1.9021, 1.6804, 1.7424, 0.5904, 0.8484, 1.5022, 1.0144, 0.3848, 2.3281, 2.3281, 2.3281, 2.328, 2.328, 2.328, 2.328, 2.328, 2.3279, 2.3279, 2.3279, 2.3279, 2.3279, 2.3279, 2.3279, 2.3279, 2.3279, 2.3279, 2.3279, 2.3279, 2.3279, 2.3279, 2.3279, 2.3278, 2.3278, 2.3278, 2.3278, 2.3278, 2.3278, 2.3278, 2.3278, 2.3259, 2.2652, 2.0994, 1.7172, 1.703, 1.335, 1.7574, 1.2884, 0.7849, 1.7981, 2.3423, 2.3423, 2.3422, 2.3422, 2.3422, 2.3422, 2.3422, 2.3422, 2.3422, 2.3422, 2.3422, 2.3422, 2.3422, 2.3422, 2.3422, 2.3421, 2.3421, 2.3421, 2.3421, 2.3421, 2.3421, 2.3421, 2.3421, 2.3421, 2.3421, 2.3421, 2.3421, 2.3421, 2.3421, 2.3421, 2.3378, 2.0005, 1.6874, 1.3623, 0.6565, 0.2516, 2.403, 2.403, 2.403, 2.403, 2.403, 2.403, 2.403, 2.403, 2.4029, 2.4029, 2.4029, 2.4029, 2.4029, 2.4029, 2.4029, 2.4029, 2.4028, 2.4028, 2.4028, 2.4028, 2.4028, 2.4028, 2.4028, 2.4028, 2.4028, 2.4028, 2.4028, 2.4028, 2.4028, 2.4028, 2.4021, 1.7634, 1.4102, 1.1895, 0.2857, 2.4135, 2.4135, 2.4135, 2.4135, 2.4134, 2.4134, 2.4134, 2.4134, 2.4134, 2.4134, 2.4134, 2.4134, 2.4134, 2.4134, 2.4134, 2.4134, 2.4134, 2.4134, 2.4133, 2.4133, 2.4133, 2.4133, 2.4133, 2.4133, 2.4133, 2.4133, 2.4132, 2.4132, 2.4132, 2.4132, 2.3236, 1.87, 2.0206, 1.8691, 1.8547, 1.6885, 1.7126, 1.5809, 2.0043, 0.6256, 2.4158, 2.4158, 2.4158, 2.4158, 2.4158, 2.4158, 2.4158, 2.4158, 2.4157, 2.4157, 2.4157, 2.4157, 2.4157, 2.4157, 2.4157, 2.4157, 2.4157, 2.4157, 2.4157, 2.4157, 2.4156, 2.4156, 2.4156, 2.4156, 2.4156, 2.4156, 2.4156, 2.4156, 2.4156, 2.4156, 2.1726, 2.2487, 1.7598, 2.1279, 2.0511, 0.6408, 1.2136, 1.2299, 0.6096]}, \"token.table\": {\"Topic\": [3, 2, 2, 3, 2, 4, 6, 7, 8, 9, 10, 1, 5, 4, 2, 2, 7, 4, 8, 9, 2, 8, 2, 5, 3, 2, 5, 9, 5, 5, 2, 3, 4, 5, 6, 7, 9, 5, 2, 4, 1, 2, 7, 8, 9, 6, 8, 10, 5, 7, 10, 9, 10, 7, 5, 5, 3, 4, 9, 3, 8, 5, 7, 9, 10, 9, 8, 10, 1, 2, 3, 7, 9, 10, 1, 3, 4, 9, 2, 4, 5, 6, 7, 10, 9, 1, 2, 1, 5, 1, 3, 2, 2, 7, 2, 4, 5, 7, 5, 7, 4, 10, 5, 4, 1, 10, 10, 2, 1, 8, 1, 3, 7, 9, 4, 1, 9, 10, 9, 1, 2, 3, 4, 5, 6, 7, 8, 9, 10, 1, 3, 3, 2, 3, 1, 2, 3, 4, 5, 6, 7, 8, 9, 10, 6, 9, 5, 7, 6, 4, 9, 7, 10, 5, 6, 9, 2, 5, 9, 10, 3, 3, 6, 5, 5, 9, 2, 9, 6, 5, 4, 10, 3, 9, 8, 10, 1, 2, 9, 4, 2, 3, 5, 7, 8, 9, 10, 1, 1, 9, 9, 1, 1, 10, 8, 8, 8, 6, 9, 10, 9, 1, 5, 10, 9, 4, 6, 1, 3, 1, 3, 7, 4, 6, 1, 8, 1, 3, 6, 9, 1, 9, 3, 2, 1, 8, 9, 3, 5, 8, 10, 5, 7, 8, 5, 6, 7, 10, 10, 3, 2, 3, 4, 9, 10, 1, 10, 1, 3, 4, 1, 3, 6, 1, 6, 10, 7, 4, 2, 4, 5, 8, 7, 2, 8, 7, 5, 2, 5, 5, 6, 7, 6, 8, 10, 5, 7, 3, 1, 6, 10, 3, 6, 5, 7, 2, 7, 10, 9, 1, 1, 6, 7, 10, 2, 10, 2, 6, 4, 1, 9, 6, 3, 7, 5, 6, 8, 9, 4, 4, 1, 5, 8, 3, 9, 7, 9, 3, 6, 2, 5, 1, 5, 1, 3, 8, 4, 7, 9, 8, 6, 5, 6, 6, 10, 3, 1, 3, 6, 10, 3, 2, 6, 8, 7, 1, 6, 10, 9, 6, 2, 9, 10, 5, 1, 8, 10, 7, 4, 2, 1, 8, 9, 7, 8, 1, 7, 2, 3, 2, 4, 10, 6, 8, 2, 3, 4, 10, 3, 1, 3, 8, 10, 3, 1, 2, 3, 4, 5, 7, 8, 9, 10, 9, 1, 8, 5, 5, 10, 8, 3, 4, 5, 10, 7, 8, 8, 3, 1, 3, 4, 8, 1, 2, 3, 4, 5, 6, 7, 8, 9, 10, 9, 2, 9, 7, 5, 7, 8, 7, 3, 2, 3, 4, 8, 2, 9, 2, 3, 6, 1, 4, 7, 9, 10, 3, 7, 4, 8, 1, 3, 4, 7, 9, 10, 8, 6, 8, 9, 7, 4, 7, 9, 3, 8, 9, 10, 3, 6, 5, 2, 4, 5, 6, 7, 8, 9, 10, 5, 7, 8, 6, 9, 1, 2, 8, 8, 7, 4, 6, 7, 10, 3, 1, 6, 8, 8, 1, 4, 4, 9, 1, 2, 6, 4, 4, 10, 6, 9, 6, 2, 4, 10, 4, 5, 4, 4, 7, 1, 3, 5, 8, 10, 6, 7, 1, 4, 7, 5, 9, 6, 5, 2, 6, 9, 8, 4, 5, 8, 2, 4, 5, 6, 7, 2], \"Freq\": [0.9998004040855298, 0.9998111041096553, 0.9998133027271552, 0.9997564311144311, 0.14163811373083426, 0.03529188880336402, 0.1983874709266436, 0.0022586808834152974, 0.3705177765835844, 0.08272418735508527, 0.16930695455267167, 0.9998303000261294, 0.9996923266875114, 0.999819216506496, 0.9995686669011393, 0.9998668466206491, 0.9998274166252956, 0.9997862200004297, 0.9996948058071236, 0.9997533918597192, 0.9996256739531002, 0.9997190338471148, 0.9998814133258654, 0.9994118304973421, 0.9998443629726786, 0.2720843321735785, 0.5536549643595481, 0.17420296386390763, 0.9994215333292823, 0.999980615014465, 0.08823135089337178, 0.06907877491729031, 0.20515748643418236, 0.22955827717951036, 0.2136773156050371, 0.1236056816107607, 0.07071458211809442, 0.9999177708540304, 0.0013582587475623928, 0.9985918312078711, 0.08483510257138804, 0.00017747929408240177, 0.00017747929408240177, 0.0008873964704120088, 0.9138408852302866, 0.9996744187696794, 0.00021470670506221637, 0.9996944982975163, 0.999495465610147, 0.9999330079327909, 0.9997260048210068, 0.9996671473755558, 0.999885666877816, 0.999887213681989, 0.9997649658220003, 0.9994436537399222, 0.9997811054806036, 0.751231470925791, 0.2487266893212859, 0.9997944281444135, 0.9998770355093459, 0.0008306583495710971, 0.2106312243555282, 0.26960796717507607, 0.5188054720464053, 0.9997179360456478, 0.9998806771858122, 0.9998347188316627, 0.1912176255779913, 9.242031202416205e-05, 0.4425084539716879, 0.15082994922343249, 0.09047948547165466, 0.12485984154464294, 0.030129930106862986, 0.9684299176884992, 0.00112425112339041, 0.00022485022467808198, 0.00030980861630635134, 0.00010326953876878378, 0.44137400869778187, 0.1641985666423662, 0.21500717971660782, 0.1789661106863023, 0.9997985577319316, 0.9999019355681165, 0.999969986349366, 0.24610793549327317, 0.753718733035954, 0.23332880305777098, 0.7666056941113423, 0.9999455386545035, 0.999922310137043, 0.9999014466702812, 0.9999024646896919, 0.20946425046993056, 0.2709752157298809, 0.5194713411654278, 0.7376238755348516, 0.2621875943812474, 0.9997803723041443, 0.9998728707170584, 0.9998570977163623, 0.9997135761971896, 0.999865409569086, 0.999778797700699, 0.9997676956014405, 0.9997276211521715, 0.9999700159172945, 0.9998996044519223, 0.29820389919359536, 0.49801621840495475, 0.09390393665351365, 0.10983507047047775, 0.9997571513129848, 0.8190512648000909, 0.004223365064283728, 0.17667743852253595, 0.9997260758846954, 0.0233415289232021, 0.10128325165844163, 0.006363910381094842, 0.2343429100672314, 0.17734816014569726, 0.3704011567572828, 0.06443728918078065, 0.006946369975296743, 0.0005824595942019008, 0.01494979625118212, 0.7559114521850628, 0.24395789086080852, 0.9998153797051655, 0.999829028812067, 0.0001340972409887429, 0.005408579063635944, 0.07792924481830381, 0.0015743281781475517, 0.29031119452840254, 0.06954975612816361, 0.5428385127812638, 0.000634809749253045, 0.00126961949850609, 5.07847799402436e-05, 0.010461664667690182, 0.565105972519069, 0.43486774649911064, 0.9997815767579319, 0.9998789735025041, 0.9997261822029845, 0.999867437733254, 0.9998893870772281, 0.9997588541303264, 0.9996031068603916, 0.1738508257218964, 0.1510911750359068, 0.6749744598019685, 0.5203978792867634, 0.1547096948168628, 0.16060789134057088, 0.16426477318526989, 0.9995891704827483, 0.9995779370750701, 0.9997263352815878, 0.999860256749889, 0.9999570985912795, 0.9995266277328134, 0.9999330980222952, 0.9997780627207998, 0.9998741484786365, 0.9997274505736377, 0.9996524083934931, 0.9997121261374932, 0.9999557284115496, 0.9998667136004002, 0.9997696470497052, 0.999732228154429, 0.9997302870906397, 0.9998798373174982, 0.9998917001452468, 0.9996904633158032, 0.0037459332292665223, 0.09022813082668057, 0.14869726253566673, 0.14470702931318719, 0.0009771999728521363, 0.48428401987930453, 0.12744316312613277, 0.9998866169651777, 0.4197603452939888, 0.5801620046863616, 0.9998077613797415, 0.9999433160481235, 0.999931082890752, 0.9998342781713885, 0.9997648001732761, 0.9998220097480651, 0.9997297055456993, 0.999917294557966, 0.9997861717714405, 0.9998518756062487, 0.9996779291241004, 0.9998982023317124, 0.9996910452022282, 0.9994719459463437, 0.9995992913395603, 0.9997540437726745, 0.99983901701477, 0.7480581853303218, 0.25188166078059515, 0.8079033790173737, 0.19186694361548742, 0.9998081632270784, 0.9996188137553598, 0.9995622797026166, 0.9999390487466515, 0.9998528992501825, 0.7122509510083237, 0.2877361985560793, 0.9998878365415286, 0.9996183308111966, 0.9998982030675242, 0.9998008896847627, 0.9999659460529192, 0.9995203893402282, 0.25105890738357134, 0.17704986460251854, 0.5718380720081344, 0.3358578426316817, 0.6640157347236626, 0.9998968546446705, 0.9997328208062392, 0.9997144986916241, 0.9997407574940969, 0.9999267623943593, 0.9997303225109347, 0.7954922273966364, 0.1999252952451864, 0.004559699716118287, 0.999779778309741, 0.9998879956910233, 0.147997113973336, 0.07421977838274176, 0.15728841260843335, 0.4960889806953752, 0.12421581389540833, 0.9998444722905424, 0.9998033661192887, 0.9996586130182181, 0.9995920379855427, 0.9996982234666408, 0.2806903036644884, 0.7192080129374704, 0.999741228323165, 0.9998171314420581, 0.9996128090935622, 0.9994731536321738, 0.9997874722085459, 0.9998201435938161, 0.9997323400859207, 0.23559684915735565, 0.527449788058102, 0.23690209485905844, 0.9996494850131397, 0.9997336779529421, 0.9997938838092653, 0.999789726281339, 0.9997207733919503, 0.9997856703511468, 0.999737741413656, 0.6583766204506358, 0.3414682960711299, 0.9996927447268545, 0.9994393558329583, 0.9996492791755707, 0.9998388700816099, 0.9998810911842773, 0.9997775258474072, 0.9999316834730511, 0.9997019337889842, 0.9997037011306111, 0.0002773872644646535, 0.9997741524371299, 0.9998469470312548, 0.9997178478683029, 0.9997539222345232, 0.5463958131171095, 0.18368741232896618, 0.2698041437441628, 0.999625725652926, 0.99996810463906, 0.9999142821216281, 0.9999409101784544, 0.24999455915493904, 0.7497208020082925, 0.9996688352013868, 0.9996787955480683, 0.9995847659428744, 0.9997624053491934, 0.999855837102474, 0.9996120033250283, 0.9996028820031805, 0.9998217974226361, 0.9997715106912827, 0.9997221319782164, 0.18494611079466752, 0.5351319631993954, 0.14259577701905204, 0.13727138534495012, 0.9998176482695481, 0.9998941407424343, 0.27460695772429783, 0.5611793602296108, 0.1640761615596703, 0.9999461963090915, 0.999818228143361, 0.9998727539824199, 0.9996419984896893, 0.999927960365806, 0.9996455390816915, 0.9998821172257459, 0.9995081862089569, 0.99994485838185, 0.9997996795651789, 0.21786685228163524, 0.7718938934585176, 0.01015649859813839, 0.9998947081376716, 0.9999565006772425, 0.9998996057979153, 0.9997757292158652, 0.9995684520879854, 0.0001882134262413084, 0.9996956134807095, 0.9998584588794897, 0.9998293055376272, 0.9998342510442108, 0.9999046028794024, 0.9997892939784611, 0.999801678079911, 0.9996656798605952, 0.9999528619744853, 0.1975828445991869, 0.2749456491586016, 0.5274736674505546, 0.9998423096561151, 0.9998782829284392, 0.30548107334823216, 0.6944491432497399, 0.9995758107802644, 0.9995627931612447, 0.4189237922876485, 0.5806696096041886, 0.0003643607673734712, 0.9995713553689406, 0.9997535725704472, 0.9998957443566412, 0.9998946244999836, 0.9999410779454297, 0.9998173706912976, 0.9998693117785904, 0.9998949422732677, 0.9998020487703964, 0.9994085043642273, 0.9997708261105058, 0.0002055027391799601, 0.9998252865388548, 0.9998472030825117, 0.9996402656197163, 0.9998789181118983, 0.9998624429008968, 0.9999787261481634, 0.9997385648641133, 0.9997861020395412, 0.9999080162826407, 0.9996915696807785, 0.9998736800858696, 0.9999138709990109, 0.9995303407657492, 0.9998077731167584, 0.7807744833761642, 0.21900111668165234, 0.9997141788938815, 0.9998355108795453, 0.9998305576232588, 0.15543565551121202, 0.025258294020571954, 0.179978127434035, 0.12301914051315005, 0.02086110113439951, 0.09326139330672722, 0.0024542471922822952, 0.09428399630351152, 0.30545151513946733, 0.9998499182895639, 0.7965354109909198, 0.2033261443845243, 0.99960846967188, 0.9998783059546962, 0.9996650142413483, 0.9999279613624275, 0.7741817199467258, 0.004454920884426403, 0.22121466516729857, 0.9998651466696302, 0.9997992715171239, 0.9998406464441345, 0.9997611688710343, 0.9998897601670932, 0.999870634277049, 0.9997060264996886, 0.9995902423386372, 0.9997168847229345, 0.10335827270493401, 0.002572839609434436, 0.32446366185645387, 0.11244261996787536, 0.058889439949277096, 6.352690393665274e-05, 0.18527621533124772, 0.03979960531631294, 0.0037163238802941857, 0.1694580162510212, 0.9999402606652531, 0.9999305818606524, 0.9999325415911777, 0.9998885517694852, 0.992840680469288, 0.006830048458512925, 0.00031045674811422386, 0.9996911430269214, 0.9998529542714633, 0.9328967780295818, 0.06702876516507131, 0.9996858917760576, 0.9997658962129146, 0.33579753830473485, 0.6640901459539484, 0.9997365041012428, 0.9998874494977519, 0.9995907859050884, 0.9997220649376077, 0.6246644388599908, 0.37528779182331096, 0.9994509782746698, 0.9998216647100888, 0.9998366143990761, 0.999825872975143, 0.0007304566187353109, 0.9990211688903269, 0.12895274918145466, 0.20189660935454837, 0.1641457361331649, 0.16467495398206283, 0.03986774461697504, 0.30050753519919016, 0.9997592616402033, 0.5884609132038103, 0.21078676879118133, 0.20050873626334687, 0.9997908563474824, 0.9997800964437962, 0.7105191649129795, 0.2893663649209179, 0.12089816711294409, 0.00724129646770238, 0.025816796102243265, 0.8459723308137519, 0.06078371206219411, 0.9389077959657699, 0.9995481196720304, 0.13922054930909034, 0.00018391089737000046, 0.14437005443545034, 0.35352272246948335, 0.12813991774254782, 0.12032370460432279, 0.0823461042974177, 0.031862562969352574, 0.9996636192124567, 0.99970552229134, 0.9999308799484627, 0.9998014791472087, 0.9996893754801751, 0.9998985618218464, 0.7104839646563862, 0.2894978762901356, 0.9997194321806366, 0.9997816727083239, 0.9997778946855301, 0.9994077341336383, 0.215936544454772, 0.7839623943257586, 0.9997715927376624, 0.9999098859902777, 0.9994881334336843, 0.999842453131915, 0.9998175883621158, 0.11315777855313958, 0.8868474012549123, 0.9998213940491074, 0.9996491694420357, 0.9997903329445972, 0.9998787698387287, 0.9996683702023527, 0.9999381161783839, 0.9996356044207882, 0.9997791665667749, 0.997639255726512, 0.0019677302874290177, 0.9998341749282663, 0.999888113070688, 0.9999732998206368, 0.9998867816523993, 0.9997940732834169, 0.9997458152015901, 0.9997348612256144, 0.9998691915314865, 0.9997219566100825, 0.5936363604096732, 0.013287823640316004, 0.09415047690446127, 0.1754674147375062, 0.1233382604562665, 0.99984489509797, 0.9996739577120576, 0.9998687345599323, 0.004470095492406484, 0.9955335251475602, 0.9995667305838847, 0.9997918251839587, 0.9995370523858186, 0.9997815013526867, 0.6895463686055008, 0.143087792461946, 0.16729763898623579, 0.9996874273225417, 0.1409795060108989, 0.5619063301792848, 0.2970869498814148, 0.3576543810670428, 0.175809680213684, 0.16231029194072724, 0.14722274034154026, 0.15696347540908553, 0.99976534907633], \"Term\": [\"aboriginal\", \"abuse\", \"accused\", \"action\", \"adelaide\", \"adelaide\", \"adelaide\", \"adelaide\", \"adelaide\", \"adelaide\", \"adelaide\", \"aged\", \"airport\", \"alan\", \"allegation\", \"alleged\", \"amid\", \"andrew\", \"animal\", \"announces\", \"appeal\", \"arrest\", \"arrested\", \"artist\", \"assault\", \"attack\", \"attack\", \"attack\", \"aussie\", \"australia\", \"australian\", \"australian\", \"australian\", \"australian\", \"australian\", \"australian\", \"australian\", \"baby\", \"bank\", \"bank\", \"beach\", \"beach\", \"beach\", \"beach\", \"beach\", \"beat\", \"beat\", \"berejiklian\", \"best\", \"biden\", \"black\", \"boat\", \"body\", \"border\", \"boris\", \"breach\", \"briefing\", \"brisbane\", \"brisbane\", \"budget\", \"building\", \"bushfire\", \"bushfire\", \"bushfire\", \"bushfire\", \"bushfires\", \"business\", \"cabinet\", \"call\", \"call\", \"call\", \"call\", \"call\", \"call\", \"campaign\", \"campaign\", \"campaign\", \"campaign\", \"canberra\", \"canberra\", \"canberra\", \"canberra\", \"canberra\", \"canberra\", \"cancer\", \"care\", \"case\", \"centre\", \"centre\", \"change\", \"change\", \"charge\", \"charged\", \"chief\", \"child\", \"china\", \"china\", \"china\", \"chinese\", \"chinese\", \"christmas\", \"claim\", \"climate\", \"close\", \"closure\", \"club\", \"coach\", \"coal\", \"coast\", \"commission\", \"community\", \"community\", \"community\", \"community\", \"company\", \"concern\", \"concern\", \"concern\", \"continues\", \"coronavirus\", \"coronavirus\", \"coronavirus\", \"coronavirus\", \"coronavirus\", \"coronavirus\", \"coronavirus\", \"coronavirus\", \"coronavirus\", \"coronavirus\", \"council\", \"council\", \"country\", \"court\", \"court\", \"covid\", \"covid\", \"covid\", \"covid\", \"covid\", \"covid\", \"covid\", \"covid\", \"covid\", \"covid\", \"crash\", \"crash\", \"cricket\", \"crisis\", \"cut\", \"cyclone\", \"daniel\", \"david\", \"day\", \"dead\", \"dead\", \"dead\", \"death\", \"death\", \"death\", \"death\", \"decision\", \"defends\", \"doctor\", \"domestic\", \"donald\", \"drone\", \"drug\", \"drum\", \"dy\", \"early\", \"east\", \"economy\", \"election\", \"emergency\", \"england\", \"expert\", \"extended\", \"face\", \"facebook\", \"fall\", \"family\", \"family\", \"family\", \"family\", \"family\", \"family\", \"family\", \"farm\", \"farmer\", \"farmer\", \"fatal\", \"fear\", \"federal\", \"female\", \"festival\", \"fight\", \"film\", \"final\", \"finance\", \"find\", \"flooding\", \"food\", \"footage\", \"football\", \"france\", \"free\", \"friday\", \"funding\", \"funding\", \"future\", \"future\", \"game\", \"george\", \"global\", \"gold\", \"good\", \"government\", \"government\", \"grand\", \"great\", \"green\", \"guilty\", \"health\", \"hears\", \"help\", \"help\", \"help\", \"high\", \"high\", \"hill\", \"history\", \"hit\", \"hobart\", \"home\", \"hong\", \"hospital\", \"hospital\", \"hospital\", \"hotel\", \"hour\", \"house\", \"house\", \"house\", \"house\", \"house\", \"housing\", \"hunt\", \"impact\", \"increase\", \"india\", \"indigenous\", \"indigenous\", \"indonesia\", \"industry\", \"injured\", \"inside\", \"international\", \"interview\", \"investigation\", \"island\", \"island\", \"island\", \"jail\", \"jailed\", \"james\", \"john\", \"johnson\", \"kid\", \"kill\", \"killed\", \"killed\", \"killing\", \"king\", \"know\", \"kohler\", \"kong\", \"korea\", \"labor\", \"land\", \"latest\", \"latest\", \"law\", \"lead\", \"leaf\", \"liberal\", \"life\", \"life\", \"life\", \"like\", \"live\", \"local\", \"lockdown\", \"long\", \"long\", \"look\", \"loss\", \"march\", \"mark\", \"market\", \"mask\", \"mean\", \"medical\", \"medium\", \"meet\", \"melbourne\", \"melbourne\", \"melbourne\", \"melbourne\", \"mental\", \"michael\", \"million\", \"million\", \"million\", \"minister\", \"missing\", \"monday\", \"money\", \"morrison\", \"mount\", \"murder\", \"music\", \"national\", \"near\", \"need\", \"need\", \"need\", \"news\", \"north\", \"northern\", \"number\", \"online\", \"open\", \"open\", \"outbreak\", \"pandemic\", \"parent\", \"park\", \"parliament\", \"patient\", \"paul\", \"people\", \"perth\", \"perth\", \"perth\", \"peter\", \"plan\", \"player\", \"player\", \"pleads\", \"point\", \"police\", \"police\", \"police\", \"politics\", \"port\", \"power\", \"premier\", \"president\", \"price\", \"prime\", \"prince\", \"prison\", \"probe\", \"program\", \"program\", \"project\", \"protest\", \"protester\", \"push\", \"quarantine\", \"queensland\", \"question\", \"race\", \"rain\", \"rape\", \"rate\", \"record\", \"recovery\", \"refugee\", \"regional\", \"regional\", \"release\", \"released\", \"remote\", \"report\", \"report\", \"report\", \"report\", \"report\", \"report\", \"report\", \"report\", \"report\", \"rescue\", \"resident\", \"resident\", \"response\", \"restriction\", \"result\", \"return\", \"rise\", \"rise\", \"rise\", \"road\", \"rollout\", \"royal\", \"rugby\", \"rule\", \"rural\", \"russia\", \"sale\", \"save\", \"say\", \"say\", \"say\", \"say\", \"say\", \"say\", \"say\", \"say\", \"say\", \"say\", \"school\", \"scott\", \"search\", \"season\", \"security\", \"security\", \"security\", \"sentenced\", \"service\", \"sexual\", \"sexual\", \"share\", \"ship\", \"shooting\", \"shooting\", \"shot\", \"show\", \"smith\", \"social\", \"south\", \"south\", \"southern\", \"speaks\", \"sport\", \"staff\", \"star\", \"star\", \"state\", \"state\", \"state\", \"state\", \"state\", \"state\", \"station\", \"storm\", \"storm\", \"storm\", \"story\", \"street\", \"student\", \"student\", \"study\", \"study\", \"study\", \"study\", \"super\", \"super\", \"survivor\", \"sydney\", \"sydney\", \"sydney\", \"sydney\", \"sydney\", \"sydney\", \"sydney\", \"sydney\", \"take\", \"talk\", \"tasmania\", \"tasmanian\", \"teen\", \"territory\", \"test\", \"test\", \"testing\", \"thousand\", \"thursday\", \"tiger\", \"time\", \"time\", \"told\", \"tourism\", \"tourist\", \"town\", \"track\", \"trade\", \"trade\", \"travel\", \"treatment\", \"tree\", \"trial\", \"truck\", \"trump\", \"tuesday\", \"turnbull\", \"united\", \"united\", \"update\", \"vaccine\", \"victoria\", \"victorian\", \"video\", \"violence\", \"wall\", \"warning\", \"warns\", \"water\", \"water\", \"water\", \"water\", \"water\", \"weather\", \"wednesday\", \"week\", \"west\", \"west\", \"whale\", \"white\", \"wild\", \"win\", \"woman\", \"woman\", \"woman\", \"womens\", \"world\", \"world\", \"world\", \"year\", \"year\", \"year\", \"year\", \"year\", \"zealand\"]}, \"R\": 30, \"lambda.step\": 0.01, \"plot.opts\": {\"xlab\": \"PC1\", \"ylab\": \"PC2\"}, \"topic.order\": [4, 1, 6, 7, 9, 5, 10, 8, 2, 3]};\n",
       "\n",
       "function LDAvis_load_lib(url, callback){\n",
       "  var s = document.createElement('script');\n",
       "  s.src = url;\n",
       "  s.async = true;\n",
       "  s.onreadystatechange = s.onload = callback;\n",
       "  s.onerror = function(){console.warn(\"failed to load library \" + url);};\n",
       "  document.getElementsByTagName(\"head\")[0].appendChild(s);\n",
       "}\n",
       "\n",
       "if(typeof(LDAvis) !== \"undefined\"){\n",
       "   // already loaded: just create the visualization\n",
       "   !function(LDAvis){\n",
       "       new LDAvis(\"#\" + \"ldavis_el48313142802710566747033843\", ldavis_el48313142802710566747033843_data);\n",
       "   }(LDAvis);\n",
       "}else if(typeof define === \"function\" && define.amd){\n",
       "   // require.js is available: use it to load d3/LDAvis\n",
       "   require.config({paths: {d3: \"https://d3js.org/d3.v5\"}});\n",
       "   require([\"d3\"], function(d3){\n",
       "      window.d3 = d3;\n",
       "      LDAvis_load_lib(\"https://cdn.jsdelivr.net/gh/bmabey/pyLDAvis@3.4.0/pyLDAvis/js/ldavis.v3.0.0.js\", function(){\n",
       "        new LDAvis(\"#\" + \"ldavis_el48313142802710566747033843\", ldavis_el48313142802710566747033843_data);\n",
       "      });\n",
       "    });\n",
       "}else{\n",
       "    // require.js not available: dynamically load d3 & LDAvis\n",
       "    LDAvis_load_lib(\"https://d3js.org/d3.v5.js\", function(){\n",
       "         LDAvis_load_lib(\"https://cdn.jsdelivr.net/gh/bmabey/pyLDAvis@3.4.0/pyLDAvis/js/ldavis.v3.0.0.js\", function(){\n",
       "                 new LDAvis(\"#\" + \"ldavis_el48313142802710566747033843\", ldavis_el48313142802710566747033843_data);\n",
       "            })\n",
       "         });\n",
       "}\n",
       "</script>"
      ],
      "text/plain": [
       "<IPython.core.display.HTML object>"
      ]
     },
     "execution_count": 17,
     "metadata": {},
     "output_type": "execute_result"
    }
   ],
   "source": [
    "%matplotlib inline\n",
    "import pyLDAvis\n",
    "import pyLDAvis.gensim_models\n",
    "vis = pyLDAvis.gensim_models.prepare(topic_model=lda_model, corpus=bow_corpus, dictionary=dictionary)\n",
    "pyLDAvis.enable_notebook()\n",
    "pyLDAvis.display(vis)"
   ]
  },
  {
   "cell_type": "markdown",
   "metadata": {},
   "source": [
    "## Some other useful functions"
   ]
  },
  {
   "cell_type": "code",
   "execution_count": 18,
   "metadata": {},
   "outputs": [
    {
     "name": "stdout",
     "output_type": "stream",
     "text": [
      "237 : police : 0.0379861\n",
      "1116 : school : 0.02415073\n",
      "313 : missing : 0.013926555\n",
      "829 : guilty : 0.012635471\n",
      "805 : family : 0.011811597\n",
      "3276 : drum : 0.011336458\n",
      "541 : search : 0.010442816\n",
      "1023 : announces : 0.010387071\n",
      "455 : farmer : 0.01035238\n",
      "111 : help : 0.010328345\n",
      "1825 : beach : 0.010228143\n",
      "649 : dead : 0.009779069\n",
      "195 : crash : 0.009722563\n",
      "361 : northern : 0.009638644\n",
      "746 : emergency : 0.009410511\n",
      "545 : finance : 0.009143067\n",
      "9637 : daniel : 0.008985191\n",
      "284 : house : 0.008908241\n",
      "286 : white : 0.008141732\n",
      "1072 : fatal : 0.007627062\n"
     ]
    }
   ],
   "source": [
    "#get the top 20 words and their weights for a specific topic\n",
    "topic_id=1\n",
    "top_terms=20\n",
    "for wordid, score in lda_model.get_topic_terms(topic_id, top_terms):\n",
    "    print(wordid, \":\", dictionary[wordid], \":\", score)"
   ]
  },
  {
   "cell_type": "code",
   "execution_count": 19,
   "metadata": {},
   "outputs": [],
   "source": [
    "#### Utility function to get the id for a word\n",
    "\n",
    "def get_id_for_word(dictionary, word):\n",
    "    for k, v in dictionary.iteritems():\n",
    "        if (v==word):\n",
    "            return k\n",
    "    return -1"
   ]
  },
  {
   "cell_type": "code",
   "execution_count": 20,
   "metadata": {},
   "outputs": [
    {
     "name": "stdout",
     "output_type": "stream",
     "text": [
      "Topic: 6\n",
      "8173 : trump : 0.036604725\n",
      "2232 : queensland : 0.035449713\n",
      "1619 : victoria : 0.030226633\n",
      "26 : record : 0.020045593\n",
      "18896 : covid : 0.020012023\n",
      "1363 : news : 0.019522559\n",
      "18895 : coronavirus : 0.019014517\n",
      "1188 : market : 0.015875\n",
      "144 : south : 0.013859161\n",
      "679 : brisbane : 0.011974324\n",
      "16 : australian : 0.010537197\n",
      "9031 : andrew : 0.010039091\n",
      "852 : price : 0.009524073\n",
      "3206 : street : 0.009501669\n",
      "1422 : interview : 0.009019847\n",
      "856 : india : 0.0076587405\n",
      "1416 : warning : 0.0074263504\n",
      "1415 : travel : 0.0073356694\n",
      "2264 : wall : 0.0071489643\n",
      "3056 : video : 0.007127532\n"
     ]
    }
   ],
   "source": [
    "top_terms=20\n",
    "index=get_id_for_word(dictionary,'market')\n",
    "for topic_id, score in lda_model.get_term_topics(index):\n",
    "    print(\"Topic:\", topic_id)\n",
    "    for wordid, score in lda_model.get_topic_terms(topic_id, top_terms):\n",
    "        print(wordid, \":\", dictionary[wordid], \":\", score)\n"
   ]
  },
  {
   "cell_type": "markdown",
   "metadata": {},
   "source": [
    "## Saving and loading your model for re-use\n",
    "\n",
    "Building a model takes time.Once you have a stable model, you can save it to disk and reload it later."
   ]
  },
  {
   "cell_type": "code",
   "execution_count": 21,
   "metadata": {},
   "outputs": [],
   "source": [
    "# Save model to disk.\n",
    "temp_file = \"./model\"\n",
    "lda_model.save(temp_file)\n",
    "\n",
    "# Load a potentially pretrained model from disk.\n",
    "loaded_lda = gensim.models.LdaModel.load(temp_file)"
   ]
  },
  {
   "cell_type": "markdown",
   "metadata": {},
   "source": [
    "## Testing model on unseen document"
   ]
  },
  {
   "cell_type": "code",
   "execution_count": 22,
   "metadata": {},
   "outputs": [],
   "source": [
    "unseen_document = 'How a Pentagon deal became an identity crisis for Google'"
   ]
  },
  {
   "cell_type": "markdown",
   "metadata": {},
   "source": [
    "In order to compare any new text against the topic model, we first need to process it in the same way as we processed the input texts for the model.\n",
    "We apply the same preprocessing function and next apply the *doc2bow* function to represent it using the same vector representation as we used for modeling."
   ]
  },
  {
   "cell_type": "code",
   "execution_count": 23,
   "metadata": {},
   "outputs": [
    {
     "name": "stdout",
     "output_type": "stream",
     "text": [
      "[(888, 1), (1088, 1), (1922, 1), (5668, 1), (12411, 1)]\n"
     ]
    }
   ],
   "source": [
    "bow_vector = dictionary.doc2bow(preprocess(unseen_document))\n",
    "print(bow_vector)\n"
   ]
  },
  {
   "cell_type": "markdown",
   "metadata": {},
   "source": [
    "We can now pass this representation of the unseen document into the model to compare it against all the topics.\n",
    "The next function returns in index to the topics and a similarity score for the new document. We print the scores and the topics with the top 5 words."
   ]
  },
  {
   "cell_type": "code",
   "execution_count": 24,
   "metadata": {},
   "outputs": [
    {
     "name": "stdout",
     "output_type": "stream",
     "text": [
      "Score: 0.34984931349754333\t Topic_id 8\t Topic: 0.078*\"australia\" + 0.023*\"donald\" + 0.017*\"restriction\" + 0.015*\"coronavirus\" + 0.013*\"world\"\n",
      "Score: 0.29527345299720764\t Topic_id 6\t Topic: 0.037*\"trump\" + 0.035*\"queensland\" + 0.030*\"victoria\" + 0.020*\"record\" + 0.020*\"covid\"\n",
      "Score: 0.23816516995429993\t Topic_id 9\t Topic: 0.020*\"border\" + 0.017*\"north\" + 0.014*\"china\" + 0.014*\"protest\" + 0.013*\"west\"\n",
      "Score: 0.016674181446433067\t Topic_id 5\t Topic: 0.029*\"election\" + 0.023*\"health\" + 0.018*\"people\" + 0.017*\"minister\" + 0.017*\"say\"\n",
      "Score: 0.016674095764756203\t Topic_id 3\t Topic: 0.023*\"government\" + 0.020*\"coast\" + 0.017*\"national\" + 0.016*\"plan\" + 0.016*\"live\"\n",
      "Score: 0.016673358157277107\t Topic_id 0\t Topic: 0.035*\"case\" + 0.024*\"court\" + 0.023*\"police\" + 0.021*\"woman\" + 0.020*\"child\"\n",
      "Score: 0.01667260378599167\t Topic_id 1\t Topic: 0.038*\"police\" + 0.024*\"school\" + 0.014*\"missing\" + 0.013*\"guilty\" + 0.012*\"family\"\n",
      "Score: 0.01667260378599167\t Topic_id 2\t Topic: 0.019*\"victorian\" + 0.015*\"premier\" + 0.013*\"time\" + 0.013*\"claim\" + 0.012*\"speaks\"\n",
      "Score: 0.01667260378599167\t Topic_id 4\t Topic: 0.039*\"covid\" + 0.031*\"coronavirus\" + 0.019*\"open\" + 0.017*\"lockdown\" + 0.016*\"melbourne\"\n",
      "Score: 0.01667260378599167\t Topic_id 7\t Topic: 0.029*\"home\" + 0.021*\"tasmania\" + 0.018*\"business\" + 0.015*\"royal\" + 0.014*\"return\"\n"
     ]
    }
   ],
   "source": [
    "for index, score in sorted(lda_model[bow_vector], key=lambda tup: -1*tup[1]):\n",
    "    print(\"Score: {}\\t Topic_id {}\\t Topic: {}\".format(score, index, lda_model.print_topic(index, 5)))"
   ]
  },
  {
   "cell_type": "markdown",
   "metadata": {},
   "source": [
    "This text matches best with topic 5 although the score is not very high!"
   ]
  },
  {
   "cell_type": "markdown",
   "metadata": {},
   "source": [
    "### Updating the model with a new document\n",
    "\n",
    "We can also use the unseen documents to extend our model and update the topics. This is useful when processing texts in a stream."
   ]
  },
  {
   "cell_type": "code",
   "execution_count": 25,
   "metadata": {},
   "outputs": [
    {
     "name": "stderr",
     "output_type": "stream",
     "text": [
      "/Library/Frameworks/Python.framework/Versions/3.12/lib/python3.12/site-packages/gensim/models/ldamodel.py:850: RuntimeWarning: overflow encountered in exp2\n",
      "  perwordbound, np.exp2(-perwordbound), len(chunk), corpus_words\n"
     ]
    }
   ],
   "source": [
    "# Update the model by incrementally training on the new corpus.\n",
    "\n",
    "other_texts = [['computer', 'time', 'graph'],['survey', 'response', 'eps'],['human', 'system', 'computer']]\n",
    "other_corpus = [dictionary.doc2bow(text) for text in other_texts]\n",
    "\n",
    "# Update the model by incrementally training on the new corpus.\n",
    "lda_model.update(other_corpus)  # update the LDA model with additional documents\n",
    "\n"
   ]
  },
  {
   "cell_type": "markdown",
   "metadata": {},
   "source": [
    "## End of this notebook"
   ]
  }
 ],
 "metadata": {
  "kernelspec": {
   "display_name": "Python 3",
   "language": "python",
   "name": "python3"
  },
  "language_info": {
   "codemirror_mode": {
    "name": "ipython",
    "version": 3
   },
   "file_extension": ".py",
   "mimetype": "text/x-python",
   "name": "python",
   "nbconvert_exporter": "python",
   "pygments_lexer": "ipython3",
   "version": "3.12.8"
  }
 },
 "nbformat": 4,
 "nbformat_minor": 4
}
