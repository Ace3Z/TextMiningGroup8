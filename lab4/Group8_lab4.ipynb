{
 "cells": [
  {
   "cell_type": "markdown",
   "metadata": {},
   "source": [
    "# Lab4-Assignment about Named Entity Recognition and Classification\n",
    "\n",
    "This notebook describes the assignment of Lab 4 of the text mining course. We assume you have succesfully completed Lab1, Lab2 and Lab3 as welll. Especially Lab2 is important for completing this assignment.\n",
    "\n",
    "**Learning goals**\n",
    "* going from linguistic input format to representing it in a feature space\n",
    "* working with pretrained word embeddings\n",
    "* train a supervised classifier (SVM)\n",
    "* evaluate a supervised classifier (SVM)\n",
    "* learn how to interpret the system output and the evaluation results\n",
    "* be able to propose future improvements based on the observed results\n"
   ]
  },
  {
   "cell_type": "markdown",
   "metadata": {},
   "source": [
    "## Credits\n",
    "This notebook was originally created by [Marten Postma](https://martenpostma.github.io) and [Filip Ilievski](http://ilievski.nl) and adapted by Piek vossen"
   ]
  },
  {
   "cell_type": "code",
   "execution_count": 1,
   "metadata": {},
   "outputs": [],
   "source": [
    "### Added by Mahbod, for imports\n",
    "import pandas as pd\n",
    "from sklearn.metrics import classification_report\n",
    "from sklearn.preprocessing import StandardScaler\n",
    "from sklearn.pipeline import make_pipeline\n",
    "from sklearn.svm import LinearSVC"
   ]
  },
  {
   "cell_type": "markdown",
   "metadata": {},
   "source": [
    "## [Points: 18] Exercise 1 (NERC): Training and evaluating an SVM using CoNLL-2003"
   ]
  },
  {
   "cell_type": "markdown",
   "metadata": {},
   "source": [
    "**[4 point] a) Load the CoNLL-2003 training data using the *ConllCorpusReader* and create for both *train.txt* and *test.txt*:**\n",
    "\n",
    "    [2 points]  -a list of dictionaries representing the features for each training instances, e..g,\n",
    "    ```\n",
    "    [\n",
    "    {'words': 'EU', 'pos': 'NNP'}, \n",
    "    {'words': 'rejects', 'pos': 'VBZ'},\n",
    "    ...\n",
    "    ]\n",
    "    ```\n",
    "\n",
    "    [2 points] -the NERC labels associated with each training instance, e.g.,\n",
    "    dictionaries, e.g.,\n",
    "    ```\n",
    "    [\n",
    "    'B-ORG', \n",
    "    'O',\n",
    "    ....\n",
    "    ]\n",
    "    ```"
   ]
  },
  {
   "cell_type": "code",
   "execution_count": 2,
   "metadata": {},
   "outputs": [
    {
     "name": "stdout",
     "output_type": "stream",
     "text": [
      "Sample Training Features: [{'words': 'EU', 'pos': 'NNP'}, {'words': 'rejects', 'pos': 'VBZ'}]\n",
      "Sample Training Labels: ['B-ORG', 'O']\n"
     ]
    }
   ],
   "source": [
    "from nltk.corpus.reader import ConllCorpusReader\n",
    "### Adapt the path to point to the CONLL2003 folder on your local machine\n",
    "train = ConllCorpusReader(\"./CONLL2003\", 'train.txt', ['words', 'pos', 'ignore', 'chunk']) # if you pull from the repo, path shall be fine\n",
    "\n",
    "training_features = []\n",
    "training_gold_labels = []\n",
    "\n",
    "for token, pos, ne_label in train.iob_words():\n",
    "   # print(token, pos, ne_label)\n",
    "   features_dict = {\n",
    "      'words': token, 'pos': pos\n",
    "   }\n",
    "   training_features.append(features_dict)\n",
    "   training_gold_labels.append(ne_label)\n",
    "   \n",
    "print(\"Sample Training Features:\", training_features[:2])\n",
    "print(\"Sample Training Labels:\", training_gold_labels[:2])"
   ]
  },
  {
   "cell_type": "code",
   "execution_count": 3,
   "metadata": {},
   "outputs": [
    {
     "name": "stdout",
     "output_type": "stream",
     "text": [
      "Sample Test Features: [{'words': 'SOCCER', 'pos': 'NN'}, {'words': '-', 'pos': ':'}]\n",
      "Sample Test Labels: ['O', 'O']\n"
     ]
    }
   ],
   "source": [
    "### Adapt the path to point to the CONLL2003 folder on your local machine\n",
    "train = ConllCorpusReader(\"./CONLL2003\", 'test.txt', ['words', 'pos', 'ignore', 'chunk'])\n",
    "\n",
    "test_features = []\n",
    "test_gold_labels = []\n",
    "for token, pos, ne_label in train.iob_words():\n",
    "    # print(token, pos, ne_label)\n",
    "    features_dict = {\n",
    "        'words': token, 'pos': pos\n",
    "    }\n",
    "    test_features.append(features_dict)\n",
    "    test_gold_labels.append(ne_label)\n",
    "\n",
    "print(\"Sample Test Features:\", test_features[:2])\n",
    "print(\"Sample Test Labels:\", test_gold_labels[:2])"
   ]
  },
  {
   "cell_type": "markdown",
   "metadata": {},
   "source": [
    "**[2 points] b) provide descriptive statistics about the training and test data:**\n",
    "* How many instances are in train and test?\n",
    "* Provide a frequency distribution of the NERC labels, i.e., how many times does each NERC label occur?\n",
    "* Discuss to what extent the training and test data is balanced (equal amount of instances for each NERC label) and to what extent the training and test data differ?\n",
    "\n",
    "Tip: you can use the following `Counter` functionality to generate frequency list of a list:"
   ]
  },
  {
   "cell_type": "code",
   "execution_count": 4,
   "metadata": {},
   "outputs": [
    {
     "data": {
      "text/plain": [
       "Counter({1: 2, 2: 2, 3: 1, 5: 1})"
      ]
     },
     "execution_count": 4,
     "metadata": {},
     "output_type": "execute_result"
    }
   ],
   "source": [
    "from collections import Counter \n",
    "\n",
    "my_list=[1,2,1,3,2,5]\n",
    "Counter(my_list)\n"
   ]
  },
  {
   "cell_type": "code",
   "execution_count": 5,
   "metadata": {},
   "outputs": [
    {
     "name": "stdout",
     "output_type": "stream",
     "text": [
      "Number of instances in training data: 203621\n",
      "Number of instances in test data: 46435\n"
     ]
    }
   ],
   "source": [
    "num_train_instances = len(training_features)\n",
    "num_test_instances = len(test_features)\n",
    "\n",
    "train_label_distribution = Counter(training_gold_labels)\n",
    "test_label_distribution = Counter(test_gold_labels)\n",
    "train_label_df = pd.DataFrame(train_label_distribution.items(), columns=['Label', 'Frequency']).sort_values(by='Frequency', ascending=False)\n",
    "test_label_df = pd.DataFrame(test_label_distribution.items(), columns=['Label', 'Frequency']).sort_values(by='Frequency', ascending=False)\n",
    "\n",
    "print(f\"Number of instances in training data: {num_train_instances}\")\n",
    "print(f\"Number of instances in test data: {num_test_instances}\")\n"
   ]
  },
  {
   "cell_type": "code",
   "execution_count": 6,
   "metadata": {},
   "outputs": [
    {
     "name": "stdout",
     "output_type": "stream",
     "text": [
      "Training Data - NERC Label Frequency\n",
      "    Label  Frequency\n",
      "1       O     169578\n",
      "5   B-LOC       7140\n",
      "3   B-PER       6600\n",
      "0   B-ORG       6321\n",
      "4   I-PER       4528\n",
      "6   I-ORG       3704\n",
      "2  B-MISC       3438\n",
      "8   I-LOC       1157\n",
      "7  I-MISC       1155\n",
      "---\n",
      "Test Data - NERC Label Frequency\n",
      "    Label  Frequency\n",
      "0       O      38323\n",
      "1   B-LOC       1668\n",
      "7   B-ORG       1661\n",
      "2   B-PER       1617\n",
      "3   I-PER       1156\n",
      "8   I-ORG        835\n",
      "5  B-MISC        702\n",
      "4   I-LOC        257\n",
      "6  I-MISC        216\n"
     ]
    }
   ],
   "source": [
    "print(\"Training Data - NERC Label Frequency\")\n",
    "print(train_label_df)\n",
    "print(\"---\")\n",
    "print(\"Test Data - NERC Label Frequency\")\n",
    "print(test_label_df)"
   ]
  },
  {
   "cell_type": "code",
   "execution_count": 7,
   "metadata": {},
   "outputs": [
    {
     "name": "stdout",
     "output_type": "stream",
     "text": [
      "Training Data - Label Distribution (%)\n",
      "    Label  Percentage\n",
      "1       O       83.28\n",
      "5   B-LOC        3.51\n",
      "3   B-PER        3.24\n",
      "0   B-ORG        3.10\n",
      "4   I-PER        2.22\n",
      "6   I-ORG        1.82\n",
      "2  B-MISC        1.69\n",
      "7  I-MISC        0.57\n",
      "8   I-LOC        0.57\n",
      "---\n",
      "Test Data - Label Distribution (%)\n",
      "    Label  Percentage\n",
      "0       O       82.53\n",
      "1   B-LOC        3.59\n",
      "7   B-ORG        3.58\n",
      "2   B-PER        3.48\n",
      "3   I-PER        2.49\n",
      "8   I-ORG        1.80\n",
      "5  B-MISC        1.51\n",
      "4   I-LOC        0.55\n",
      "6  I-MISC        0.47\n"
     ]
    }
   ],
   "source": [
    "train_total_labels = sum(train_label_distribution.values())\n",
    "test_total_labels = sum(test_label_distribution.values())\n",
    "\n",
    "train_balance = {label: round((count / train_total_labels) * 100, 2) for label, count in train_label_distribution.items()}\n",
    "test_balance = {label: round((count / test_total_labels) * 100, 2) for label, count in test_label_distribution.items()}\n",
    "train_balance_df = pd.DataFrame(train_balance.items(), columns=['Label', 'Percentage']).sort_values(by='Percentage', ascending=False)\n",
    "test_balance_df = pd.DataFrame(test_balance.items(), columns=['Label', 'Percentage']).sort_values(by='Percentage', ascending=False)\n",
    "\n",
    "print(\"Training Data - Label Distribution (%)\")\n",
    "print(train_balance_df)\n",
    "print(\"---\")\n",
    "print(\"Test Data - Label Distribution (%)\")\n",
    "print(test_balance_df)"
   ]
  },
  {
   "cell_type": "markdown",
   "metadata": {},
   "source": [
    "**[2 points] c) Concatenate the train and test features (the list of dictionaries) into one list. Load it using the *DictVectorizer*. Afterwards, split it back to training and test.**\n",
    "\n",
    "Tip: You’ve concatenated train and test into one list and then you’ve applied the DictVectorizer.\n",
    "The order of the rows is maintained. You can hence use an index (number of training instances) to split the_array back into train and test. Do NOT use: `\n",
    "from sklearn.model_selection import train_test_split` here.\n"
   ]
  },
  {
   "cell_type": "code",
   "execution_count": 8,
   "metadata": {},
   "outputs": [],
   "source": [
    "from sklearn.feature_extraction import DictVectorizer"
   ]
  },
  {
   "cell_type": "code",
   "execution_count": 9,
   "metadata": {},
   "outputs": [
    {
     "name": "stdout",
     "output_type": "stream",
     "text": [
      "Shape of training features array: (203621, 27361)\n",
      "Shape of test features array: (46435, 27361)\n"
     ]
    }
   ],
   "source": [
    "vec = DictVectorizer()\n",
    "all_features = training_features + test_features\n",
    "the_array = vec.fit_transform(all_features).toarray()\n",
    "\n",
    "# print(the_array.shape)\n",
    "\n",
    "train_features_array = the_array[:num_train_instances]\n",
    "test_features_array = the_array[num_train_instances:]\n",
    "\n",
    "print(\"Shape of training features array:\", train_features_array.shape)\n",
    "print(\"Shape of test features array:\", test_features_array.shape)"
   ]
  },
  {
   "cell_type": "markdown",
   "metadata": {},
   "source": [
    "**[4 points] d) Train the SVM using the train features and labels and evaluate on the test data. Provide a classification report (sklearn.metrics.classification_report).**\n",
    "The train (*lin_clf.fit*) might take a while. On my computer, it took 1min 53s, which is acceptable. Training models normally takes much longer. If it takes more than 5 minutes, you can use a subset for training. Describe the results:\n",
    "* Which NERC labels does the classifier perform well on? Why do you think this is the case?\n",
    "* Which NERC labels does the classifier perform poorly on? Why do you think this is the case?"
   ]
  },
  {
   "cell_type": "code",
   "execution_count": 10,
   "metadata": {},
   "outputs": [],
   "source": [
    "from sklearn import svm"
   ]
  },
  {
   "cell_type": "code",
   "execution_count": null,
   "metadata": {},
   "outputs": [],
   "source": [
    "lin_clf = svm.LinearSVC(max_iter=10000) # max_iter added to remove the problems related to convergence, 5k didnt work.\n",
    "# To remove the convergence error we need to increase the maximum number of iterations, but the time goes up with it.\n"
   ]
  },
  {
   "cell_type": "code",
   "execution_count": 16,
   "metadata": {},
   "outputs": [
    {
     "name": "stdout",
     "output_type": "stream",
     "text": [
      "Classification Report:\n",
      "              precision    recall  f1-score   support\n",
      "\n",
      "       B-LOC       0.81      0.78      0.79      1668\n",
      "      B-MISC       0.78      0.66      0.72       702\n",
      "       B-ORG       0.79      0.52      0.63      1661\n",
      "       B-PER       0.86      0.44      0.58      1617\n",
      "       I-LOC       0.62      0.53      0.57       257\n",
      "      I-MISC       0.57      0.59      0.58       216\n",
      "       I-ORG       0.70      0.47      0.56       835\n",
      "       I-PER       0.33      0.87      0.48      1156\n",
      "           O       0.98      0.98      0.98     38323\n",
      "\n",
      "    accuracy                           0.92     46435\n",
      "   macro avg       0.72      0.65      0.65     46435\n",
      "weighted avg       0.94      0.92      0.92     46435\n",
      "\n"
     ]
    }
   ],
   "source": [
    "##### [ YOUR CODE SHOULD GO HERE ]\n",
    "lin_clf.fit(train_features_array, training_gold_labels)\n",
    "\n",
    "test_predictions = lin_clf.predict(test_features_array)\n",
    "report = classification_report(test_gold_labels, test_predictions)\n",
    "\n",
    "print(\"Classification Report:\")\n",
    "print(report)"
   ]
  },
  {
   "cell_type": "markdown",
   "metadata": {},
   "source": [
    "**[6 points] e) Train a model that uses the embeddings of these words as inputs. Test again on the same data as in 2d. Generate a classification report and compare the results with the classifier you built in 2d.**"
   ]
  },
  {
   "cell_type": "code",
   "execution_count": null,
   "metadata": {},
   "outputs": [],
   "source": []
  },
  {
   "cell_type": "markdown",
   "metadata": {},
   "source": [
    "## [Points: 10] Exercise 2 (NERC): feature inspection using the [Annotated Corpus for Named Entity Recognition](https://www.kaggle.com/abhinavwalia95/entity-annotated-corpus)\n",
    "**[6 points] a. Perform the same steps as in the previous exercise. Make sure you end up for both the training part (*df_train*) and the test part (*df_test*) with:**\n",
    "* the features representation using **DictVectorizer**\n",
    "* the NERC labels in a list\n",
    "\n",
    "Please note that this is the same setup as in the previous exercise:\n",
    "* load both train and test using:\n",
    "    * list of dictionaries for features\n",
    "    * list of NERC labels\n",
    "* combine train and test features in a list and represent them using one hot encoding\n",
    "* train using the training features and NERC labels"
   ]
  },
  {
   "cell_type": "code",
   "execution_count": 13,
   "metadata": {},
   "outputs": [],
   "source": [
    "import pandas"
   ]
  },
  {
   "cell_type": "code",
   "execution_count": 14,
   "metadata": {},
   "outputs": [
    {
     "ename": "TypeError",
     "evalue": "read_csv() got an unexpected keyword argument 'error_bad_lines'",
     "output_type": "error",
     "traceback": [
      "\u001b[0;31m---------------------------------------------------------------------------\u001b[0m",
      "\u001b[0;31mTypeError\u001b[0m                                 Traceback (most recent call last)",
      "Cell \u001b[0;32mIn[14], line 3\u001b[0m\n\u001b[1;32m      1\u001b[0m \u001b[38;5;66;03m##### Adapt the path to point to your local copy of NERC_datasets\u001b[39;00m\n\u001b[1;32m      2\u001b[0m path \u001b[38;5;241m=\u001b[39m \u001b[38;5;124m'\u001b[39m\u001b[38;5;124m/Users/piek/Desktop/ONDERWIJS/data/nerc_datasets/kaggle/ner_v2.csv\u001b[39m\u001b[38;5;124m'\u001b[39m\n\u001b[0;32m----> 3\u001b[0m kaggle_dataset \u001b[38;5;241m=\u001b[39m \u001b[43mpandas\u001b[49m\u001b[38;5;241;43m.\u001b[39;49m\u001b[43mread_csv\u001b[49m\u001b[43m(\u001b[49m\u001b[43mpath\u001b[49m\u001b[43m,\u001b[49m\u001b[43m \u001b[49m\u001b[43merror_bad_lines\u001b[49m\u001b[38;5;241;43m=\u001b[39;49m\u001b[38;5;28;43;01mFalse\u001b[39;49;00m\u001b[43m)\u001b[49m\n",
      "\u001b[0;31mTypeError\u001b[0m: read_csv() got an unexpected keyword argument 'error_bad_lines'"
     ]
    }
   ],
   "source": [
    "##### Adapt the path to point to your local copy of NERC_datasets\n",
    "path = '/Users/piek/Desktop/ONDERWIJS/data/nerc_datasets/kaggle/ner_v2.csv'\n",
    "kaggle_dataset = pandas.read_csv(path, error_bad_lines=False)"
   ]
  },
  {
   "cell_type": "code",
   "execution_count": null,
   "metadata": {},
   "outputs": [],
   "source": [
    "len(kaggle_dataset)"
   ]
  },
  {
   "cell_type": "code",
   "execution_count": null,
   "metadata": {},
   "outputs": [],
   "source": [
    "df_train = kaggle_dataset[:100000]\n",
    "df_test = kaggle_dataset[100000:120000]\n",
    "print(len(df_train), len(df_test))"
   ]
  },
  {
   "cell_type": "markdown",
   "metadata": {},
   "source": [
    "**[4 points] b. Train and evaluate the model and provide the classification report:**\n",
    "* use the SVM to predict NERC labels on the test data\n",
    "* evaluate the performance of the SVM on the test data\n",
    "\n",
    "Analyze the performance per NERC label."
   ]
  },
  {
   "cell_type": "markdown",
   "metadata": {},
   "source": [
    "## End of this notebook"
   ]
  }
 ],
 "metadata": {
  "kernelspec": {
   "display_name": "Python 3",
   "language": "python",
   "name": "python3"
  },
  "language_info": {
   "codemirror_mode": {
    "name": "ipython",
    "version": 3
   },
   "file_extension": ".py",
   "mimetype": "text/x-python",
   "name": "python",
   "nbconvert_exporter": "python",
   "pygments_lexer": "ipython3",
   "version": "3.10.11"
  }
 },
 "nbformat": 4,
 "nbformat_minor": 4
}
