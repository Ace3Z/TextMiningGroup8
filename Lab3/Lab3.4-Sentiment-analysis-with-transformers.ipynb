{
 "cells": [
  {
   "cell_type": "markdown",
   "metadata": {},
   "source": [
    "# Lab3.4 Sentiment Classification using transformer models"
   ]
  },
  {
   "cell_type": "markdown",
   "metadata": {},
   "source": [
    "Copyright: Vrije Universiteit Amsterdam, Faculty of Humanities, CLTL"
   ]
  },
  {
   "cell_type": "markdown",
   "metadata": {},
   "source": [
    "This notebook explains how you can use a transformer model that is fine-tuned for sentiment analysis. Fine-tuned transformer models are published regularly on the huggingface platform: https://huggingface.co/models\n",
    "\n",
    "These models are very big (Gigabytes) and require a computer with sufficient memory to load. Furthermore, loading these models takes some time as well. It is also possible to copy such a model to your disk and to load the local copy. Still a substantial memory is needed to load it."
   ]
  },
  {
   "cell_type": "markdown",
   "metadata": {},
   "source": [
    "This notebook requires installing some deep learning packages: transformers, pytorch and simpletransformers. If you are not experienced with installing these packages, make sure you first define a virtual environment for python, activate this environment and install the packages in this enviroment.\n",
    "\n",
    "Please consult the Python documentation for installing such an enviroment:\n",
    "\n",
    "https://docs.python.org/3/library/venv.html\n",
    "\n",
    "After activating your enviroment you can install pytorch, transformers and simpletransformers from the command line. If you start this notebook within the same virtual environment you can also execute the next installation commands from your notebook. Once installed, you can comment out the next cell."
   ]
  },
  {
   "cell_type": "code",
   "execution_count": null,
   "metadata": {},
   "outputs": [],
   "source": [
    "#!conda install pytorch cpuonly -c pytorch\n",
    "#!pip install transformers\n",
    "#!pip install simpletransformers"
   ]
  },
  {
   "cell_type": "markdown",
   "metadata": {},
   "source": [
    "Huggingface transfomers provides an option to create a **pipeline** to perform a NLP task with a pretrained model: \n",
    "\n",
    "\"The pipelines are a great and easy way to use models for inference. These pipelines are objects that abstract most of the complex code from the library, offering a simple API dedicated to several tasks, including Named Entity Recognition, Masked Language Modeling, Sentiment Analysis, Feature Extraction and Question Answering.\"\n",
    "\n",
    "More information can be found here: https://huggingface.co/transformers/v3.0.2/main_classes/pipelines.html\n",
    "\n",
    "We will use the pipeline module to load a fine-tuned model to perform senteiment analysis"
   ]
  },
  {
   "cell_type": "code",
   "execution_count": 2,
   "metadata": {},
   "outputs": [],
   "source": [
    "from transformers import pipeline"
   ]
  },
  {
   "cell_type": "markdown",
   "metadata": {},
   "source": [
    "We load a transformer model 'distilbert-base-uncased-finetuned-sst-2-english' that is fine-tuned for binary classification from the Hugging face repository:\n",
    "\n",
    "https://huggingface.co/models\n",
    "\n",
    "We need to load the model for the sequence classifcation and the tokenizer to convert the sentences into tokens according to the vocabulary of the model.\n",
    "\n",
    "Loading the model takes some time."
   ]
  },
  {
   "cell_type": "code",
   "execution_count": 3,
   "metadata": {},
   "outputs": [
    {
     "name": "stderr",
     "output_type": "stream",
     "text": [
      "Device set to use mps:0\n"
     ]
    }
   ],
   "source": [
    "sentimentenglish = pipeline(\"sentiment-analysis\", \n",
    "                            model=\"distilbert-base-uncased-finetuned-sst-2-english\", \n",
    "                            tokenizer=\"distilbert-base-uncased-finetuned-sst-2-english\")"
   ]
  },
  {
   "cell_type": "markdown",
   "metadata": {},
   "source": [
    "We now created an instantiation of a pipeline that can tokenize any sentence, obtain a sententence embedding from the transformer language model and perform the **sentiment-analysis** task. Let's try it out on an example sentence."
   ]
  },
  {
   "cell_type": "code",
   "execution_count": 4,
   "metadata": {},
   "outputs": [],
   "source": [
    "sentence_pos_en = \"Nice hotel and the service is great\""
   ]
  },
  {
   "cell_type": "code",
   "execution_count": 5,
   "metadata": {},
   "outputs": [
    {
     "data": {
      "text/plain": [
       "[{'label': 'POSITIVE', 'score': 0.999881386756897}]"
      ]
     },
     "execution_count": 5,
     "metadata": {},
     "output_type": "execute_result"
    }
   ],
   "source": [
    "sentimentenglish(sentence_pos_en)"
   ]
  },
  {
   "cell_type": "code",
   "execution_count": 6,
   "metadata": {},
   "outputs": [],
   "source": [
    "sentence_neg_en = \"The rooms are dirty and the wifi does not work\""
   ]
  },
  {
   "cell_type": "code",
   "execution_count": 7,
   "metadata": {},
   "outputs": [
    {
     "data": {
      "text/plain": [
       "[{'label': 'NEGATIVE', 'score': 0.9997870326042175}]"
      ]
     },
     "execution_count": 7,
     "metadata": {},
     "output_type": "execute_result"
    }
   ],
   "source": [
    "sentimentenglish(sentence_neg_en)"
   ]
  },
  {
   "cell_type": "markdown",
   "metadata": {},
   "source": [
    "This is easy and seems to work very well. "
   ]
  },
  {
   "cell_type": "markdown",
   "metadata": {},
   "source": [
    "## Using a Dutch fine-tuned transformer model"
   ]
  },
  {
   "cell_type": "markdown",
   "metadata": {},
   "source": [
    "We can use a fine-tuned Dutch model for Dutch sentiment analysis by creating another pipeline. Again loading this model takes some time. Also note that after loading, both moodels are loaded in memory. So if you have issues loading, you may want to start over and try again just with the Dutch pipeline."
   ]
  },
  {
   "cell_type": "code",
   "execution_count": null,
   "metadata": {},
   "outputs": [],
   "source": [
    "sentimentdutch = pipeline(\"sentiment-analysis\", \n",
    "                          model=\"wietsedv/bert-base-dutch-cased-finetuned-sentiment\", \n",
    "                          tokenizer=\"wietsedv/bert-base-dutch-cased-finetuned-sentiment\")"
   ]
  },
  {
   "cell_type": "markdown",
   "metadata": {},
   "source": [
    "We test it on two similar Dutch sentences:"
   ]
  },
  {
   "cell_type": "code",
   "execution_count": null,
   "metadata": {},
   "outputs": [],
   "source": [
    "sentence_pos_nl=\"Mooi hotel en de service is geweldig\"\n",
    "sentence_neg_nl=\"De kamers zijn smerig en de wifi doet het niet\""
   ]
  },
  {
   "cell_type": "code",
   "execution_count": null,
   "metadata": {},
   "outputs": [],
   "source": [
    "sentimentdutch(sentence_pos_nl)"
   ]
  },
  {
   "cell_type": "code",
   "execution_count": null,
   "metadata": {},
   "outputs": [],
   "source": [
    "sentimentdutch(sentence_neg_nl)"
   ]
  },
  {
   "cell_type": "markdown",
   "metadata": {},
   "source": [
    "This seems to work fine too although the score for negative in the second example is much lower."
   ]
  },
  {
   "cell_type": "markdown",
   "metadata": {},
   "source": [
    "## Inspecting sentence representations using Simpletransformers"
   ]
  },
  {
   "cell_type": "markdown",
   "metadata": {},
   "source": [
    "The Simpletransformers package is built on top of the transformer package. It simplifies the use of transformers even more and provides excellent documentation: https://simpletransformers.ai\n",
    "\n",
    "The site explains also how you can fine-tune models yourself or even how to build models from scratch, assuming you have the computing power and the data.\n",
    "\n",
    "Here we are going to use it to inspect the sentence representations a bit more. Unfortunately, we need to load the English model again as an instantiation of a RepresentationModel. So if you have memory issues, please stop the kernel and start again from here.\n",
    "\n",
    "Loading the model may gave a lot of warnings. You can ignore these. If you do not have a graphical card (GPU) and or cuda installed to use the GPU you need to set use_cuda to False, as shown below."
   ]
  },
  {
   "cell_type": "code",
   "execution_count": 8,
   "metadata": {},
   "outputs": [
    {
     "name": "stderr",
     "output_type": "stream",
     "text": [
      "huggingface/tokenizers: The current process just got forked, after parallelism has already been used. Disabling parallelism to avoid deadlocks...\n",
      "To disable this warning, you can either:\n",
      "\t- Avoid using `tokenizers` before the fork if possible\n",
      "\t- Explicitly set the environment variable TOKENIZERS_PARALLELISM=(true | false)\n",
      "huggingface/tokenizers: The current process just got forked, after parallelism has already been used. Disabling parallelism to avoid deadlocks...\n",
      "To disable this warning, you can either:\n",
      "\t- Avoid using `tokenizers` before the fork if possible\n",
      "\t- Explicitly set the environment variable TOKENIZERS_PARALLELISM=(true | false)\n",
      "You are using a model of type distilbert to instantiate a model of type bert. This is not supported for all configurations of models and can yield errors.\n",
      "Some weights of BertForTextRepresentation were not initialized from the model checkpoint at distilbert-base-uncased-finetuned-sst-2-english and are newly initialized: ['embeddings.LayerNorm.bias', 'embeddings.LayerNorm.weight', 'embeddings.position_embeddings.weight', 'embeddings.token_type_embeddings.weight', 'embeddings.word_embeddings.weight', 'encoder.layer.0.attention.output.LayerNorm.bias', 'encoder.layer.0.attention.output.LayerNorm.weight', 'encoder.layer.0.attention.output.dense.bias', 'encoder.layer.0.attention.output.dense.weight', 'encoder.layer.0.attention.self.key.bias', 'encoder.layer.0.attention.self.key.weight', 'encoder.layer.0.attention.self.query.bias', 'encoder.layer.0.attention.self.query.weight', 'encoder.layer.0.attention.self.value.bias', 'encoder.layer.0.attention.self.value.weight', 'encoder.layer.0.intermediate.dense.bias', 'encoder.layer.0.intermediate.dense.weight', 'encoder.layer.0.output.LayerNorm.bias', 'encoder.layer.0.output.LayerNorm.weight', 'encoder.layer.0.output.dense.bias', 'encoder.layer.0.output.dense.weight', 'encoder.layer.1.attention.output.LayerNorm.bias', 'encoder.layer.1.attention.output.LayerNorm.weight', 'encoder.layer.1.attention.output.dense.bias', 'encoder.layer.1.attention.output.dense.weight', 'encoder.layer.1.attention.self.key.bias', 'encoder.layer.1.attention.self.key.weight', 'encoder.layer.1.attention.self.query.bias', 'encoder.layer.1.attention.self.query.weight', 'encoder.layer.1.attention.self.value.bias', 'encoder.layer.1.attention.self.value.weight', 'encoder.layer.1.intermediate.dense.bias', 'encoder.layer.1.intermediate.dense.weight', 'encoder.layer.1.output.LayerNorm.bias', 'encoder.layer.1.output.LayerNorm.weight', 'encoder.layer.1.output.dense.bias', 'encoder.layer.1.output.dense.weight', 'encoder.layer.10.attention.output.LayerNorm.bias', 'encoder.layer.10.attention.output.LayerNorm.weight', 'encoder.layer.10.attention.output.dense.bias', 'encoder.layer.10.attention.output.dense.weight', 'encoder.layer.10.attention.self.key.bias', 'encoder.layer.10.attention.self.key.weight', 'encoder.layer.10.attention.self.query.bias', 'encoder.layer.10.attention.self.query.weight', 'encoder.layer.10.attention.self.value.bias', 'encoder.layer.10.attention.self.value.weight', 'encoder.layer.10.intermediate.dense.bias', 'encoder.layer.10.intermediate.dense.weight', 'encoder.layer.10.output.LayerNorm.bias', 'encoder.layer.10.output.LayerNorm.weight', 'encoder.layer.10.output.dense.bias', 'encoder.layer.10.output.dense.weight', 'encoder.layer.11.attention.output.LayerNorm.bias', 'encoder.layer.11.attention.output.LayerNorm.weight', 'encoder.layer.11.attention.output.dense.bias', 'encoder.layer.11.attention.output.dense.weight', 'encoder.layer.11.attention.self.key.bias', 'encoder.layer.11.attention.self.key.weight', 'encoder.layer.11.attention.self.query.bias', 'encoder.layer.11.attention.self.query.weight', 'encoder.layer.11.attention.self.value.bias', 'encoder.layer.11.attention.self.value.weight', 'encoder.layer.11.intermediate.dense.bias', 'encoder.layer.11.intermediate.dense.weight', 'encoder.layer.11.output.LayerNorm.bias', 'encoder.layer.11.output.LayerNorm.weight', 'encoder.layer.11.output.dense.bias', 'encoder.layer.11.output.dense.weight', 'encoder.layer.2.attention.output.LayerNorm.bias', 'encoder.layer.2.attention.output.LayerNorm.weight', 'encoder.layer.2.attention.output.dense.bias', 'encoder.layer.2.attention.output.dense.weight', 'encoder.layer.2.attention.self.key.bias', 'encoder.layer.2.attention.self.key.weight', 'encoder.layer.2.attention.self.query.bias', 'encoder.layer.2.attention.self.query.weight', 'encoder.layer.2.attention.self.value.bias', 'encoder.layer.2.attention.self.value.weight', 'encoder.layer.2.intermediate.dense.bias', 'encoder.layer.2.intermediate.dense.weight', 'encoder.layer.2.output.LayerNorm.bias', 'encoder.layer.2.output.LayerNorm.weight', 'encoder.layer.2.output.dense.bias', 'encoder.layer.2.output.dense.weight', 'encoder.layer.3.attention.output.LayerNorm.bias', 'encoder.layer.3.attention.output.LayerNorm.weight', 'encoder.layer.3.attention.output.dense.bias', 'encoder.layer.3.attention.output.dense.weight', 'encoder.layer.3.attention.self.key.bias', 'encoder.layer.3.attention.self.key.weight', 'encoder.layer.3.attention.self.query.bias', 'encoder.layer.3.attention.self.query.weight', 'encoder.layer.3.attention.self.value.bias', 'encoder.layer.3.attention.self.value.weight', 'encoder.layer.3.intermediate.dense.bias', 'encoder.layer.3.intermediate.dense.weight', 'encoder.layer.3.output.LayerNorm.bias', 'encoder.layer.3.output.LayerNorm.weight', 'encoder.layer.3.output.dense.bias', 'encoder.layer.3.output.dense.weight', 'encoder.layer.4.attention.output.LayerNorm.bias', 'encoder.layer.4.attention.output.LayerNorm.weight', 'encoder.layer.4.attention.output.dense.bias', 'encoder.layer.4.attention.output.dense.weight', 'encoder.layer.4.attention.self.key.bias', 'encoder.layer.4.attention.self.key.weight', 'encoder.layer.4.attention.self.query.bias', 'encoder.layer.4.attention.self.query.weight', 'encoder.layer.4.attention.self.value.bias', 'encoder.layer.4.attention.self.value.weight', 'encoder.layer.4.intermediate.dense.bias', 'encoder.layer.4.intermediate.dense.weight', 'encoder.layer.4.output.LayerNorm.bias', 'encoder.layer.4.output.LayerNorm.weight', 'encoder.layer.4.output.dense.bias', 'encoder.layer.4.output.dense.weight', 'encoder.layer.5.attention.output.LayerNorm.bias', 'encoder.layer.5.attention.output.LayerNorm.weight', 'encoder.layer.5.attention.output.dense.bias', 'encoder.layer.5.attention.output.dense.weight', 'encoder.layer.5.attention.self.key.bias', 'encoder.layer.5.attention.self.key.weight', 'encoder.layer.5.attention.self.query.bias', 'encoder.layer.5.attention.self.query.weight', 'encoder.layer.5.attention.self.value.bias', 'encoder.layer.5.attention.self.value.weight', 'encoder.layer.5.intermediate.dense.bias', 'encoder.layer.5.intermediate.dense.weight', 'encoder.layer.5.output.LayerNorm.bias', 'encoder.layer.5.output.LayerNorm.weight', 'encoder.layer.5.output.dense.bias', 'encoder.layer.5.output.dense.weight', 'encoder.layer.6.attention.output.LayerNorm.bias', 'encoder.layer.6.attention.output.LayerNorm.weight', 'encoder.layer.6.attention.output.dense.bias', 'encoder.layer.6.attention.output.dense.weight', 'encoder.layer.6.attention.self.key.bias', 'encoder.layer.6.attention.self.key.weight', 'encoder.layer.6.attention.self.query.bias', 'encoder.layer.6.attention.self.query.weight', 'encoder.layer.6.attention.self.value.bias', 'encoder.layer.6.attention.self.value.weight', 'encoder.layer.6.intermediate.dense.bias', 'encoder.layer.6.intermediate.dense.weight', 'encoder.layer.6.output.LayerNorm.bias', 'encoder.layer.6.output.LayerNorm.weight', 'encoder.layer.6.output.dense.bias', 'encoder.layer.6.output.dense.weight', 'encoder.layer.7.attention.output.LayerNorm.bias', 'encoder.layer.7.attention.output.LayerNorm.weight', 'encoder.layer.7.attention.output.dense.bias', 'encoder.layer.7.attention.output.dense.weight', 'encoder.layer.7.attention.self.key.bias', 'encoder.layer.7.attention.self.key.weight', 'encoder.layer.7.attention.self.query.bias', 'encoder.layer.7.attention.self.query.weight', 'encoder.layer.7.attention.self.value.bias', 'encoder.layer.7.attention.self.value.weight', 'encoder.layer.7.intermediate.dense.bias', 'encoder.layer.7.intermediate.dense.weight', 'encoder.layer.7.output.LayerNorm.bias', 'encoder.layer.7.output.LayerNorm.weight', 'encoder.layer.7.output.dense.bias', 'encoder.layer.7.output.dense.weight', 'encoder.layer.8.attention.output.LayerNorm.bias', 'encoder.layer.8.attention.output.LayerNorm.weight', 'encoder.layer.8.attention.output.dense.bias', 'encoder.layer.8.attention.output.dense.weight', 'encoder.layer.8.attention.self.key.bias', 'encoder.layer.8.attention.self.key.weight', 'encoder.layer.8.attention.self.query.bias', 'encoder.layer.8.attention.self.query.weight', 'encoder.layer.8.attention.self.value.bias', 'encoder.layer.8.attention.self.value.weight', 'encoder.layer.8.intermediate.dense.bias', 'encoder.layer.8.intermediate.dense.weight', 'encoder.layer.8.output.LayerNorm.bias', 'encoder.layer.8.output.LayerNorm.weight', 'encoder.layer.8.output.dense.bias', 'encoder.layer.8.output.dense.weight', 'encoder.layer.9.attention.output.LayerNorm.bias', 'encoder.layer.9.attention.output.LayerNorm.weight', 'encoder.layer.9.attention.output.dense.bias', 'encoder.layer.9.attention.output.dense.weight', 'encoder.layer.9.attention.self.key.bias', 'encoder.layer.9.attention.self.key.weight', 'encoder.layer.9.attention.self.query.bias', 'encoder.layer.9.attention.self.query.weight', 'encoder.layer.9.attention.self.value.bias', 'encoder.layer.9.attention.self.value.weight', 'encoder.layer.9.intermediate.dense.bias', 'encoder.layer.9.intermediate.dense.weight', 'encoder.layer.9.output.LayerNorm.bias', 'encoder.layer.9.output.LayerNorm.weight', 'encoder.layer.9.output.dense.bias', 'encoder.layer.9.output.dense.weight', 'pooler.dense.bias', 'pooler.dense.weight']\n",
      "You should probably TRAIN this model on a down-stream task to be able to use it for predictions and inference.\n",
      "The tokenizer class you load from this checkpoint is not the same type as the class this function is called from. It may result in unexpected tokenization. \n",
      "The tokenizer class you load from this checkpoint is 'DistilBertTokenizer'. \n",
      "The class this function is called from is 'BertTokenizer'.\n"
     ]
    }
   ],
   "source": [
    "from simpletransformers.language_representation import RepresentationModel\n",
    "        \n",
    "#sentences = [\"Example sentence 1\", \"Example sentence 2\"]\n",
    "model = RepresentationModel(\n",
    "        model_type=\"bert\",\n",
    "        model_name=\"distilbert-base-uncased-finetuned-sst-2-english\",\n",
    "        use_cuda=False ## If you cannot use a GPU set this to false\n",
    "    )"
   ]
  },
  {
   "cell_type": "markdown",
   "metadata": {},
   "source": [
    "The Representationmodel allows you to obtain a sentence encoding. We do that next for the positive English example which consists of 7 words:"
   ]
  },
  {
   "cell_type": "code",
   "execution_count": 9,
   "metadata": {},
   "outputs": [
    {
     "data": {
      "text/plain": [
       "'Nice hotel and the service is great'"
      ]
     },
     "execution_count": 9,
     "metadata": {},
     "output_type": "execute_result"
    }
   ],
   "source": [
    "sentence_pos_en"
   ]
  },
  {
   "cell_type": "markdown",
   "metadata": {},
   "source": [
    "According to the simpletransformers API the input must be a list even when it is a single sentence. If you pass a string as input, it will turn it into a list of charcaters, each character as a separate sentence."
   ]
  },
  {
   "cell_type": "code",
   "execution_count": 10,
   "metadata": {},
   "outputs": [],
   "source": [
    "word_vectors = model.encode_sentences([sentence_pos_en], combine_strategy=None)"
   ]
  },
  {
   "cell_type": "markdown",
   "metadata": {},
   "source": [
    "The result is a numpy array with the shape (1, 9, 768) "
   ]
  },
  {
   "cell_type": "code",
   "execution_count": 11,
   "metadata": {},
   "outputs": [
    {
     "name": "stdout",
     "output_type": "stream",
     "text": [
      "<class 'numpy.ndarray'>\n",
      "(1, 9, 768)\n"
     ]
    }
   ],
   "source": [
    "print(type(word_vectors))\n",
    "print(word_vectors.shape)"
   ]
  },
  {
   "cell_type": "markdown",
   "metadata": {},
   "source": [
    "The first number indicates the number of sentences, which is **1** in our case. The next digit **9** indicates the number of tokens and the final digit is the number of dimension for each token according to the transformer model, which **768** in case of BERT models.\n",
    "\n",
    "We can ask for the full embedding representation for the first token:"
   ]
  },
  {
   "cell_type": "code",
   "execution_count": 12,
   "metadata": {},
   "outputs": [
    {
     "name": "stdout",
     "output_type": "stream",
     "text": [
      "Nr of dimensions for the mebdding of the first token: 768\n",
      "[ 0.6467571   0.4408613   1.5656304   1.08018    -0.8973118   0.05553066\n",
      "  0.29678628  0.33459142  0.17719294 -0.8666987   0.03460401 -0.71491194\n",
      "  1.0909857   0.5098205   0.42231864 -0.0940423  -1.0912482  -0.4636342\n",
      " -0.9620069   0.534323    1.179798    0.846878    2.7474468  -0.56287706\n",
      "  0.8337457   0.17961423 -0.24078943 -0.21263644  0.4846447  -0.4166851\n",
      "  0.78047925 -0.41136009  0.34205887 -0.30006212 -0.19500983  0.28681996\n",
      "  0.09235588  1.3384287   0.67689997  0.0077504   0.78453416 -0.11292735\n",
      " -1.8393996   0.09273205  1.4643122  -0.4054364  -1.3710493   1.0205662\n",
      " -0.18073434  0.6291959  -0.07867284  1.5292451   1.168977    2.7729356\n",
      " -0.75942063 -0.15330474 -0.2773342  -0.783089    0.7920654  -1.0129564\n",
      "  0.7964076   0.09572578 -1.1570067  -0.84538114 -0.57574314  1.4123324\n",
      "  0.65435654 -0.9433146  -0.39619794  0.93497133 -1.5043366   0.67923415\n",
      "  1.3628949   0.11414234  1.2303596   0.02297993 -0.08516183 -1.1062102\n",
      " -0.7291078   1.4908133   0.8940136   1.1139601  -1.0886927  -1.1468061\n",
      "  0.13634959 -0.8648314  -0.5542016  -0.7229013   0.29570708 -0.10449391\n",
      "  0.08556826 -1.6124954  -1.424896    1.5253483  -0.39981702  0.616823\n",
      " -0.36482888 -0.645694    0.7079472   0.69895595 -0.607926    0.34708664\n",
      "  0.76030654 -0.27210513 -1.8079752   0.92326033 -0.89723855 -1.2509124\n",
      "  0.14227308  0.13208465 -0.9833016   0.36152822 -1.9085556   0.22296287\n",
      " -0.11192345 -0.59561646 -0.06878904 -0.04016275 -1.2199268   0.25347954\n",
      " -0.28745928 -0.66736406  0.3764864   0.8697338   0.9819357   0.16755061\n",
      "  1.5291088  -0.22929057  1.0812249   2.3614426  -0.41408914  0.55974334\n",
      " -0.31883055  1.9605652   0.02133752  0.5453186   1.9510025   0.6961452\n",
      "  1.6237371  -0.05162579 -0.17058235 -1.4849811   2.3109775  -1.1844876\n",
      "  0.2566179   0.29803035 -0.00740485 -0.35999203  1.8679461  -0.70526993\n",
      " -0.5389815  -0.4100562  -0.20815879  0.49446997  0.15329623 -1.7364362\n",
      " -0.84801817  0.12420342  1.2599716  -1.0397501   1.4358134  -0.89402187\n",
      "  1.2794187   1.4295813  -0.658122    0.13746709  0.22596034 -1.6079013\n",
      " -1.3671514  -2.2303276  -0.1886739   0.69343066  0.8640185   0.34205082\n",
      " -0.2638782   0.8159269   0.2125177  -0.0509783  -0.04013079  0.22412652\n",
      "  0.51678336  1.7236786  -0.72312766  0.16997446  0.7860498  -0.7650098\n",
      " -0.6844251   1.6886854   0.6514846  -1.0332425  -0.67635185  1.4431995\n",
      "  0.06224937 -1.1811347  -0.6343084  -0.43223017 -0.92945     1.2028346\n",
      " -0.23972899  0.06094543  0.07951555  0.7335909   0.78361833  0.79232866\n",
      " -0.06919795 -0.37458855  0.01112826 -0.7825542  -0.5483653  -1.1579283\n",
      " -1.7341434   0.05848182 -1.3233715  -0.34339336  1.2663481  -0.45562008\n",
      " -2.6872904   0.42308003 -0.32237634  1.475104   -0.77074677  0.18281223\n",
      "  0.50994134 -1.4645815  -0.60403395  2.1315215  -0.7156335   0.69725114\n",
      "  1.033484   -0.5137223  -0.9331852  -0.23701596 -0.36984158 -0.02793081\n",
      "  2.3623493   2.34148    -0.02526597  1.689711   -1.710288   -1.5752419\n",
      " -1.1345791  -0.98426     0.43292585 -0.3164906  -1.7036293  -0.40416518\n",
      "  1.0048385  -0.35979825 -1.9318084  -0.7605266  -1.5185311  -0.27554137\n",
      "  0.16950202 -0.37034556 -0.5190917   1.7482009  -0.7484085  -0.02679842\n",
      "  0.86181796 -0.75515157  0.890824    0.5730491  -0.03299003 -0.10856041\n",
      "  0.17965749  0.82951206  0.3946948   0.53721404  0.73981565  1.3468713\n",
      "  0.5197406  -0.38448176 -1.6276132  -0.50668615  1.8005432   1.900354\n",
      " -0.08303209  1.2952591  -0.314259   -0.72968084 -1.1289122   1.7873181\n",
      "  1.3248904  -2.753214    0.8134662   0.7072593  -1.8801737   0.02049432\n",
      " -0.6148773   1.0837257  -0.35155258  1.1779044  -0.56578714 -1.8226548\n",
      " -0.913444    0.7409625   1.5325365   0.57492614 -1.5324876   0.11296939\n",
      "  1.2496847  -1.6786772   1.4242151  -0.3518257  -0.46228862  0.9061916\n",
      " -0.62839    -1.4813381  -0.84313893  0.8851332   0.41569602  0.97008723\n",
      "  0.08385045 -0.55610925  0.7559013   1.0107155  -0.05833103  0.41258144\n",
      " -1.235509   -1.7018979  -0.9711827  -1.0732238   0.6205101  -0.19820559\n",
      " -1.8157338   1.4838861  -0.04478602  0.14762995 -1.0891569   2.1445076\n",
      "  0.74463475  0.7417177  -1.3083994  -0.59970313  0.383635   -0.638667\n",
      "  1.7807229   1.4135791   0.5783017  -1.3738627  -0.2653471  -1.082797\n",
      " -1.1699523  -0.32059902 -1.0390999   1.346751   -0.09184645 -1.742544\n",
      " -1.7600876   1.4554732   0.6159329   0.6225339  -0.12011988 -0.44172302\n",
      " -1.2559057   0.8797315   1.2001317  -0.7448259  -1.1357452   1.7946233\n",
      " -2.2813997   0.8915868  -0.01989537 -0.27357095 -1.6521345   0.46232837\n",
      "  0.14175087 -2.154788    0.35708547 -0.42524478 -0.2576329   0.1862835\n",
      "  0.17053016  0.12884587  0.05102415 -0.42058414 -0.6232064  -0.5564696\n",
      " -1.426507    1.3341702   0.6751199  -1.0278302  -0.57950383 -1.5031561\n",
      " -0.3838421   0.1422573   0.36785185  1.204368    0.295262    0.5821049\n",
      "  1.8718842   0.33267692  0.42457107  0.56932795 -2.3693445   1.5278798\n",
      "  1.0369221   0.9729481   0.26676518  1.744375    0.34468886 -0.26739916\n",
      " -1.866444    0.08914763 -0.2337475  -1.19985     1.2118042  -0.1079781\n",
      " -1.1929259   0.6820549  -0.68735296  2.1694508  -0.3666589  -0.73810756\n",
      "  1.9252586   0.07370518 -0.69099236  0.3110214  -1.1661624   0.3231477\n",
      " -0.9817865  -0.57246333 -0.22972186 -0.46551037 -1.3812627  -0.53059673\n",
      " -0.4378421  -0.3374886  -0.4697439  -0.6981175   0.76531863  0.53355426\n",
      "  1.914012    0.6895395   1.6182113  -0.11111818  0.8926172  -0.49888697\n",
      "  1.122923   -0.5842945   0.88612455  0.5187987   1.3912954  -2.2377737\n",
      "  1.3099132   0.00793007 -0.5496579  -1.2142544   0.14188299 -0.8625006\n",
      "  0.9796744  -0.8274764   0.37548965  0.2226662  -0.49609596 -0.88507026\n",
      "  0.48662227 -0.08918698  0.66421235  1.0966862   0.5703662  -1.564343\n",
      " -1.926029    0.5721817  -0.88593066  0.02918047  0.9274546  -0.29787958\n",
      " -0.95373744 -1.404414   -0.5559948  -0.52580583 -0.15983564  0.00945498\n",
      "  0.3389265  -0.44083345 -0.79812396 -0.20562808  1.2312493   0.99736786\n",
      " -0.9092757  -1.8374585   0.8253824   2.1306305  -0.57542986  0.09879329\n",
      " -0.15690179  0.64233047 -0.02309842  0.72163063  0.8869014  -0.7369969\n",
      " -1.9633712   1.3805429   0.989261    0.39798754  0.5199738  -1.6563832\n",
      " -0.35466924  1.776425   -0.38448995 -1.261155    0.06297144  1.2206388\n",
      "  0.5199943  -1.7100891  -0.40171438  0.6960292  -0.04237542  0.504919\n",
      "  0.2918967  -0.05507942 -0.21895835 -1.2613363  -0.6828736   1.371524\n",
      " -0.12851511 -0.72816795  1.1751293  -1.8333414   1.2032704   1.7851156\n",
      "  1.2030054  -0.83959097  0.8207918  -0.08670052  0.43726644 -0.20970684\n",
      " -0.7480817  -0.4142258   0.07169218 -0.56823105 -0.2109739   1.5964918\n",
      " -2.331437    0.5216379   0.5428299  -0.02798089  1.5380734   0.76518035\n",
      "  0.68758166 -0.8347111  -2.5957067  -1.9110005   0.3022944   0.5694604\n",
      " -0.41393146  1.3615557  -1.1044714   0.9510722   1.4660157  -0.06933878\n",
      " -1.8197205   0.17044151 -1.5299985  -1.4117491  -1.1732793  -1.4240797\n",
      "  0.21220835 -1.1851571   0.36876246  0.94224757 -1.2388723   1.0328826\n",
      "  0.7426901  -0.2138604   0.76446885 -0.21946627 -0.16533446 -1.4970547\n",
      "  0.91756034  1.7106541   0.29795977  0.29198894 -0.29949465  0.3492188\n",
      "  0.43152627 -0.01899552  0.47292826  1.8648205   0.14689311 -0.72401917\n",
      "  0.93337506  0.22579029 -2.3928173  -0.8128838  -0.32999194 -1.1276733\n",
      "  0.01703028  0.1889932   0.8246506   1.050106    0.49955064 -1.7875185\n",
      "  1.1596226   1.5136663   0.45181423 -0.16790347  0.46406013 -2.4851408\n",
      "  0.035299    1.5121588  -0.09252935 -0.27150482 -1.1779541   0.5870614\n",
      "  0.22292593  0.65127975  0.17751816 -0.08138195  0.58566475 -0.9690146\n",
      " -0.2904356  -0.6298897  -0.71530586 -1.3221284   0.19288617  0.3771508\n",
      " -1.367186   -0.85735    -0.04448456 -2.2106805   0.37441245  0.18471889\n",
      " -1.5012476  -0.04989805 -1.6858608   0.5936684  -0.56882733  1.5305083\n",
      " -1.2724484  -1.6678993   1.1505698   1.9206235   0.7941403  -0.14699927\n",
      " -1.472859   -0.45375228  0.6994137   0.25107855 -0.5012228   1.6006117\n",
      "  0.96173847 -0.79068094  0.1409022  -0.24058934  0.5793069  -1.1526936\n",
      " -0.6324792   0.20286198 -0.20676108  1.0588491   1.4396777  -1.3251281\n",
      "  0.49684545 -0.4270708  -0.9025925   2.0996823   0.53912205  1.3044364\n",
      "  1.2096088   0.77106893  0.53763664  0.2523646  -0.11632367 -0.12685223\n",
      "  0.0852539   1.3933719   0.06843765  0.37562042 -0.88805693 -0.59546673\n",
      " -0.82737833 -1.2733494  -0.4052432  -0.00975582 -0.86235297  0.33778265\n",
      "  0.01153977  0.19950677  0.74004215  0.32180762  0.599582    1.1455655\n",
      "  1.2443615  -0.15485701 -1.0446194  -0.8633828  -0.853245    0.01346299\n",
      " -1.2970074  -0.6746271   0.95946324  0.9004362  -1.8301666   0.0931917\n",
      "  2.3666315   0.21662283 -1.3991667  -1.9636351  -0.84748054  2.8016915\n",
      "  0.45400682 -0.15585636 -0.5503471   1.6420126   1.1974784  -0.80183655\n",
      " -1.5313593  -0.7884153  -2.2451394  -0.4666151  -0.01575953 -1.562987\n",
      "  1.1083306  -0.9205555  -0.39663053 -0.6389537   0.29449213  2.0661106\n",
      " -0.5874638   1.7394074   1.263821   -1.2215776  -0.34401894  0.05502668\n",
      "  0.6949724   0.75101644 -0.07262411  0.07265204  0.788761    1.4200726\n",
      " -0.9194173  -0.8398717  -1.6650308  -0.69922894  0.39694917  0.09620816\n",
      " -0.09758477  0.37237093  0.3506411   1.62558     1.0362093  -0.30234468\n",
      " -0.84775794  0.8343163   0.69431496 -0.5302477  -0.7161194  -1.6511458\n",
      " -0.44128698  1.4496356  -1.0005053   0.50366133 -0.09731853  0.48166\n",
      "  1.911554   -1.4594971   0.24597657 -0.52886367  0.8284712   0.72042435\n",
      "  0.11812311 -1.1208667   1.090992   -0.44451258 -1.2674437  -0.0649188 ]\n"
     ]
    }
   ],
   "source": [
    "print('Nr of dimensions for the mebdding of the first token:', len(word_vectors[0][0]))\n",
    "print(word_vectors[0][0])"
   ]
  },
  {
   "cell_type": "markdown",
   "metadata": {},
   "source": [
    "**WAIT** Our sentence has 7 words so why do we get 9 tokens here?"
   ]
  },
  {
   "cell_type": "markdown",
   "metadata": {},
   "source": [
    "We can  use the tokenizer of the model to get the token representation of the transformer and check it out."
   ]
  },
  {
   "cell_type": "code",
   "execution_count": 13,
   "metadata": {},
   "outputs": [
    {
     "data": {
      "text/plain": [
       "{'input_ids': [101, 100, 3309, 1998, 1996, 2326, 2003, 2307, 102], 'token_type_ids': [0, 0, 0, 0, 0, 0, 0, 0, 0], 'attention_mask': [1, 1, 1, 1, 1, 1, 1, 1, 1]}"
      ]
     },
     "execution_count": 13,
     "metadata": {},
     "output_type": "execute_result"
    }
   ],
   "source": [
    "tokenized_sentence = model.tokenizer(sentence_pos_en)\n",
    "tokenized_sentence"
   ]
  },
  {
   "cell_type": "markdown",
   "metadata": {},
   "source": [
    "Although our sentence has 7 words, we get 9 identifiers. We can use the **decode** function to convert them back to words:"
   ]
  },
  {
   "cell_type": "code",
   "execution_count": 14,
   "metadata": {},
   "outputs": [
    {
     "data": {
      "text/plain": [
       "'[CLS]'"
      ]
     },
     "execution_count": 14,
     "metadata": {},
     "output_type": "execute_result"
    }
   ],
   "source": [
    "model.tokenizer.decode(101)"
   ]
  },
  {
   "cell_type": "markdown",
   "metadata": {},
   "source": [
    "The first token is the special token **CLS** which is an abstract sentence representation. Let's check another one:"
   ]
  },
  {
   "cell_type": "code",
   "execution_count": 15,
   "metadata": {},
   "outputs": [
    {
     "data": {
      "text/plain": [
       "'hotel'"
      ]
     },
     "execution_count": 15,
     "metadata": {},
     "output_type": "execute_result"
    }
   ],
   "source": [
    "model.tokenizer.decode(3309)"
   ]
  },
  {
   "cell_type": "markdown",
   "metadata": {},
   "source": [
    "Allright, this a word from our sentence. Let's decode them all:"
   ]
  },
  {
   "cell_type": "code",
   "execution_count": 16,
   "metadata": {},
   "outputs": [
    {
     "name": "stdout",
     "output_type": "stream",
     "text": [
      "101 [CLS]\n",
      "100 [UNK]\n",
      "3309 hotel\n",
      "1998 and\n",
      "1996 the\n",
      "2326 service\n",
      "2003 is\n",
      "2307 great\n",
      "102 [SEP]\n"
     ]
    }
   ],
   "source": [
    "tokenid_list = tokenized_sentence['input_ids']\n",
    "for token_id in tokenid_list:\n",
    "    print(token_id, model.tokenizer.decode(token_id))"
   ]
  },
  {
   "cell_type": "markdown",
   "metadata": {},
   "source": [
    "The transformer model added the special tokens **CLS** and **SEP** but also represented our \"Nice\" with the **UNK** token. Any idea why? Check the name of the model we used....."
   ]
  },
  {
   "cell_type": "markdown",
   "metadata": {},
   "source": [
    "We used the uncased model, which means that for training all inoput was downcased."
   ]
  },
  {
   "cell_type": "markdown",
   "metadata": {},
   "source": [
    "# End of this notebook"
   ]
  }
 ],
 "metadata": {
  "kernelspec": {
   "display_name": "Python 3",
   "language": "python",
   "name": "python3"
  },
  "language_info": {
   "codemirror_mode": {
    "name": "ipython",
    "version": 3
   },
   "file_extension": ".py",
   "mimetype": "text/x-python",
   "name": "python",
   "nbconvert_exporter": "python",
   "pygments_lexer": "ipython3",
   "version": "3.12.8"
  }
 },
 "nbformat": 4,
 "nbformat_minor": 4
}
